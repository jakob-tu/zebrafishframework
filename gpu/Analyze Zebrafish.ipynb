{
 "cells": [
  {
   "cell_type": "code",
   "execution_count": null,
   "metadata": {},
   "outputs": [],
   "source": [
    "import numpy as np\n",
    "import torch as th\n",
    "from time import time as timer\n",
    "import h5py\n",
    "from tqdm import tqdm_notebook\n",
    "from skimage.external.tifffile import imread, imsave\n",
    "from os import path as op\n",
    "from sys import path as sp\n",
    "module_path = op.abspath(op.join('..'))\n",
    "if module_path not in sp:  # add local path to import helpers\n",
    "    sp.append(module_path)\n",
    "import helpers as h\n",
    "from importlib import reload\n",
    "import ipywidgets as widgets\n",
    "h = reload(h)"
   ]
  },
  {
   "cell_type": "markdown",
   "metadata": {},
   "source": [
    "# Set Parameters"
   ]
  },
  {
   "cell_type": "code",
   "execution_count": null,
   "metadata": {},
   "outputs": [],
   "source": [
    "CPU_THREADS         = 0 #h.getAvailableThreadCount()-2\n",
    "GPU_THREADS         = 8 #2\n",
    "\n",
    "FRAMES_PER_CHUNK    = 50    # needs VRAM\n",
    "ALIGNMENT_FRAME_IDX = 0     # Frame idx to which others will be aligned (starting at 0) \n",
    "MAX_DISPLACEMENT    = 30    # if displacement of frame is higher it will be discarded\n",
    "\n",
    "FILE_NAME          = \"./data/fish4_stimulus.lif\"\n",
    "NEURON_TEMPLATE    = imread(\"./data/cell.tif\")\n",
    "NEURON_RADIUS      = 5      # px\n",
    "\n",
    "STD_DEV_FILE_NAME = FILE_NAME.replace(\".lif\", \"_std_div.tif\")\n",
    "CELL_POS_FILE_NAME = FILE_NAME.replace(\".lif\", \"_cell_positions.npy\")\n",
    "CELL_SIZE_FILE_NAME = FILE_NAME.replace(\".lif\", \"_cell_sizes.npy\")\n",
    "CELL_ACT_FILE_NAME = FILE_NAME.replace(\".lif\", \"_cell_activities.npy\")\n",
    "INVALID_FRAMES_FILE_NAME = FILE_NAME.replace(\".lif\", \"_invalid_frames.npy\")"
   ]
  },
  {
   "cell_type": "markdown",
   "metadata": {},
   "source": [
    "# Read stack and align images (Takes ~13,5 minutes for 80GB)"
   ]
  },
  {
   "cell_type": "code",
   "execution_count": null,
   "metadata": {
    "scrolled": true
   },
   "outputs": [],
   "source": [
    "# prepare reader\n",
    "ir, shape, metaData = h.startLifReader(FILE_NAME, FRAMES_PER_CHUNK)\n",
    "nf, nz, nx, ny = shape\n",
    "print(\"Found image stack of shape  {}\".format(shape))\n",
    "\n",
    "# read and upload Alignment Frame to GPU\n",
    "h.prepareAlignmentFrame(h.readFrame(ir, ALIGNMENT_FRAME_IDX, nz), MAX_DISPLACEMENT)\n",
    "h.prepareSumTensorsAndInvalidFrames((nz, nx, ny))\n",
    "\n",
    "# create Threads and Queue for image alignment\n",
    "registerQueue = h.createQueue(h.alignPlaneWorker, 0, CPU_THREADS, GPU_THREADS)\n",
    "\n",
    "stdDeviations = np.empty((nz,nx,ny))\n",
    "cellPositions = [None] * nz\n",
    "cellSizes     = [None] * nz\n",
    "cellActivitys = [None] * nz\n",
    "\n",
    "planeStack = np.empty((nf, nx, ny), dtype=np.uint16)\n",
    "for z in tqdm_notebook(range(nz), desc='z Plane'):\n",
    "\n",
    "    # register planes\n",
    "    for f in tqdm_notebook(range(nf)): registerQueue.put((h.readPlane(ir,z,f), z, planeStack, f))\n",
    "    #for f in tqdm_notebook(range(nf)): planeStack[f] = h.toCPU(h.alignPlaneGPU(h.toGPU(h.readPlane(ir,z,f)),z,f))\n",
    "    #for f in tqdm_notebook(range(nf)): planeStack[f] = h.alignPlaneCPU(h.readPlane(ir,z,f),z,f)\n",
    "    registerQueue.join()\n",
    "\n",
    "    # Find Cell Positions\n",
    "    stdDeviations[z] = h.getPlaneStdDeviation(z, nf)\n",
    "    #cellPositions[z] = h.findCellPositions(stdDeviations[z], NEURON_TEMPLATE, 2, .2, 20)\n",
    "    cellPositions[z], cellSizes[z] = h.findCellPositionsBlob(stdDeviations[z])\n",
    "    print(\"Found {} Cells\".format(cellPositions[z].shape[0]))\n",
    "    h.showInlineScatterAndImage(stdDeviations[z], cellPositions[z], (10,10), \"None\", \"white\", s=cellSizes[z]*10, vmax=100)\n",
    "\n",
    "    # Read Cell Activity over frames\n",
    "    cellActivitys[z] = h.getActivityOverTime(cellPositions[z], cellSizes[z], planeStack)\n",
    "\n",
    "# calc standard deviation and save everything\n",
    "imsave(STD_DEV_FILE_NAME,   stdDeviations)\n",
    "np.save(CELL_POS_FILE_NAME, cellPositions)\n",
    "np.save(CELL_SIZE_FILE_NAME, cellSizes)\n",
    "np.save(CELL_ACT_FILE_NAME, cellActivitys)\n",
    "invalidFrames = h.getInvalidFrames()\n",
    "np.save(INVALID_FRAMES_FILE_NAME, invalidFrames)\n",
    "print(\"Total cell count: {}\".format(sum([cp.shape[0] for cp in cellPositions])))"
   ]
  },
  {
   "cell_type": "markdown",
   "metadata": {},
   "source": [
    "## Alternative: load traces if already calculated"
   ]
  },
  {
   "cell_type": "code",
   "execution_count": null,
   "metadata": {},
   "outputs": [],
   "source": [
    "stdDeviations = imread(STD_DEV_FILE_NAME)\n",
    "cellPositions = np.load(CELL_POS_FILE_NAME)\n",
    "cellSizes     = np.load(CELL_SIZE_FILE_NAME)\n",
    "cellActivitys = np.load(CELL_ACT_FILE_NAME)\n",
    "invalidFrames = np.load(INVALID_FRAMES_FILE_NAME)"
   ]
  },
  {
   "cell_type": "markdown",
   "metadata": {},
   "source": [
    "# Remove invalid Cells manually"
   ]
  },
  {
   "cell_type": "code",
   "execution_count": null,
   "metadata": {
    "scrolled": false
   },
   "outputs": [],
   "source": [
    "def f(z=0): h.removeCellsByHand(z, stdDeviations, cellPositions, cellSizes, cellActivitys, (900,900), vmax=100)\n",
    "widgets.interact(f, z=range(stdDeviations.shape[0]))"
   ]
  },
  {
   "cell_type": "markdown",
   "metadata": {},
   "source": [
    "### Save Cell Positions and Activity"
   ]
  },
  {
   "cell_type": "code",
   "execution_count": null,
   "metadata": {},
   "outputs": [],
   "source": [
    "np.save(CELL_POS_FILE_NAME, cellPositions)\n",
    "np.save(CELL_SIZE_FILE_NAME, cellSizes)\n",
    "np.save(CELL_ACT_FILE_NAME, cellActivitys)"
   ]
  },
  {
   "cell_type": "markdown",
   "metadata": {},
   "source": [
    "## calculate ΔF/F"
   ]
  },
  {
   "cell_type": "code",
   "execution_count": null,
   "metadata": {},
   "outputs": [],
   "source": [
    "CONTROL_FRAMES_START = 160\n",
    "CONTROL_FRAMES_END   = 180 #invalidFrames[0]\n",
    "cellActDFFs = h.getDFF(cellActivitys, CONTROL_FRAMES_START, CONTROL_FRAMES_END)"
   ]
  },
  {
   "cell_type": "code",
   "execution_count": null,
   "metadata": {
    "scrolled": true
   },
   "outputs": [],
   "source": [
    "def f(z=0): h.showInlineImage(cellActivitys[z], (20,10)) \n",
    "widgets.interact(f, z=range(len(cellActivitys)))"
   ]
  },
  {
   "cell_type": "code",
   "execution_count": null,
   "metadata": {
    "scrolled": false
   },
   "outputs": [],
   "source": [
    "def f(z=0): h.showInlineImage(cellActDFFs[z], (20,10), vmin=-1, vmax=2)   \n",
    "widgets.interact(f, z=range(cellActDFFs.shape[0]))"
   ]
  },
  {
   "cell_type": "markdown",
   "metadata": {},
   "source": [
    "# Visualize in 3D"
   ]
  },
  {
   "cell_type": "code",
   "execution_count": null,
   "metadata": {},
   "outputs": [],
   "source": [
    "maxColWgt = widgets.ColorPicker(value='#00ff00', description='more Activity')\n",
    "midColWgt = widgets.ColorPicker(value='#3333cc', description='same Activity')\n",
    "minColWgt = widgets.ColorPicker(value='#ff0000', description='less Activity')\n",
    "display(widgets.VBox(children=[maxColWgt, midColWgt, minColWgt]))"
   ]
  },
  {
   "cell_type": "code",
   "execution_count": null,
   "metadata": {
    "scrolled": true
   },
   "outputs": [],
   "source": [
    "MIN_VAL = -1.0\n",
    "MID_VAL = 0\n",
    "MAX_VAL = 2.0\n",
    "\n",
    "SIZE_SMALL = 0.1\n",
    "SIZE_LARGE = 1.0\n",
    "\n",
    "cellX, cellY, cellZ, cellC, cellS = h.getCellPositionsColorsSizes(cellPositions, cellActDFFs,\n",
    "                                        minColWgt.value, midColWgt.value, maxColWgt.value,\n",
    "                                        MIN_VAL, MID_VAL, MAX_VAL, SIZE_SMALL, SIZE_LARGE)"
   ]
  },
  {
   "cell_type": "markdown",
   "metadata": {},
   "source": [
    "### Takes time to transfer data to PC for visualization "
   ]
  },
  {
   "cell_type": "code",
   "execution_count": null,
   "metadata": {
    "scrolled": false
   },
   "outputs": [],
   "source": [
    "FRAME_RANGE = range(1700, 1800) #range(invalidFrames[-1], nf-1)\n",
    "SPEED = 10   # in frames per second\n",
    "\n",
    "nz, nx, ny = stdDeviations.shape\n",
    "h.drawInline3DScatter((800,800), (nx,ny,nz), cellX, cellY, cellZ, cellC[FRAME_RANGE], cellS[FRAME_RANGE],\n",
    "                      stdDeviations, 25, SPEED)"
   ]
  },
  {
   "cell_type": "code",
   "execution_count": null,
   "metadata": {},
   "outputs": [],
   "source": []
  },
  {
   "cell_type": "code",
   "execution_count": null,
   "metadata": {},
   "outputs": [],
   "source": [
    "sum([cps.shape[0] for cps in cellPositions])"
   ]
  },
  {
   "cell_type": "code",
   "execution_count": null,
   "metadata": {},
   "outputs": [],
   "source": []
  },
  {
   "cell_type": "code",
   "execution_count": null,
   "metadata": {},
   "outputs": [],
   "source": []
  },
  {
   "cell_type": "code",
   "execution_count": null,
   "metadata": {},
   "outputs": [],
   "source": []
  },
  {
   "cell_type": "code",
   "execution_count": null,
   "metadata": {},
   "outputs": [],
   "source": []
  },
  {
   "cell_type": "code",
   "execution_count": null,
   "metadata": {},
   "outputs": [],
   "source": []
  }
 ],
 "metadata": {
  "kernelspec": {
   "display_name": "Python 3",
   "language": "python",
   "name": "python3"
  },
  "language_info": {
   "codemirror_mode": {
    "name": "ipython",
    "version": 3
   },
   "file_extension": ".py",
   "mimetype": "text/x-python",
   "name": "python",
   "nbconvert_exporter": "python",
   "pygments_lexer": "ipython3",
   "version": "3.5.2"
  }
 },
 "nbformat": 4,
 "nbformat_minor": 2
}
