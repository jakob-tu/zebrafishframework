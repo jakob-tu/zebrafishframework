{
 "cells": [
  {
   "cell_type": "code",
   "execution_count": 1,
   "metadata": {},
   "outputs": [
    {
     "name": "stderr",
     "output_type": "stream",
     "text": [
      "/anaconda3/lib/python3.6/importlib/_bootstrap.py:219: RuntimeWarning: numpy.dtype size changed, may indicate binary incompatibility. Expected 96, got 88\n",
      "  return f(*args, **kwds)\n"
     ]
    }
   ],
   "source": [
    "import numpy as np\n",
    "import torch as th\n",
    "from time import time as timer\n",
    "import h5py\n",
    "from tqdm import tqdm_notebook\n",
    "from skimage.external.tifffile import imread, imsave\n",
    "from os import path as op\n",
    "from sys import path as sp\n",
    "module_path = op.abspath(op.join('..'))\n",
    "if module_path not in sp:  # add local path to import helpers\n",
    "    sp.append(module_path)\n",
    "import helpers as h\n",
    "from importlib import reload\n",
    "#import ipywidgets as widgets\n",
    "h = reload(h)\n",
    "import deepdish as dd"
   ]
  },
  {
   "cell_type": "markdown",
   "metadata": {},
   "source": [
    "# Set Parameters"
   ]
  },
  {
   "cell_type": "code",
   "execution_count": 2,
   "metadata": {},
   "outputs": [],
   "source": [
    "CPU_THREADS         = 0 #h.getAvailableThreadCount()-2\n",
    "GPU_THREADS         = 8 #2\n",
    "\n",
    "ALIGNMENT_FRAME_IDX = 400     # Frame idx to which others will be aligned (starting at 0) \n",
    "MAX_DISPLACEMENT    = 60    # if displacement of frame is higher it will be discarded\n",
    "\n",
    "FILE_NAME          = \"/Users/koesterlab/calcium/stimulus/fish46_6dpf_amph.lif\"\n",
    "FILE_NAME_OUT      = FILE_NAME.replace('calcium', 'registered')\n",
    "\n",
    "STD_DEV_FILE_NAME = FILE_NAME_OUT.replace(\".lif\", \"_std_div.tif\")\n",
    "CELL_POS_FILE_NAME = FILE_NAME_OUT.replace(\".lif\", \"_cell_positions.npy\")\n",
    "CELL_SIZE_FILE_NAME = FILE_NAME_OUT.replace(\".lif\", \"_cell_sizes.npy\")\n",
    "CELL_ACT_FILE_NAME = FILE_NAME_OUT.replace(\".lif\", \"_cell_activities.npy\")\n",
    "INVALID_FRAMES_FILE_NAME = FILE_NAME_OUT.replace(\".lif\", \"_invalid_frames.npy\")"
   ]
  },
  {
   "cell_type": "markdown",
   "metadata": {},
   "source": [
    "# Read stack and align images (Takes ~13,5 minutes for 80GB)"
   ]
  },
  {
   "cell_type": "code",
   "execution_count": null,
   "metadata": {
    "scrolled": false
   },
   "outputs": [
    {
     "name": "stdout",
     "output_type": "stream",
     "text": [
      "Found image stack of shape  (1800, 21, 1024, 1024)\n"
     ]
    },
    {
     "data": {
      "application/vnd.jupyter.widget-view+json": {
       "model_id": "c91ea80067c340fba80b4b0a85e669ba",
       "version_major": 2,
       "version_minor": 0
      },
      "text/plain": [
       "HBox(children=(IntProgress(value=0, description='z Plane', max=21, style=ProgressStyle(description_width='init…"
      ]
     },
     "metadata": {},
     "output_type": "display_data"
    },
    {
     "data": {
      "application/vnd.jupyter.widget-view+json": {
       "model_id": "f9fad9f2324c4f43828a2acb351a760c",
       "version_major": 2,
       "version_minor": 0
      },
      "text/plain": [
       "HBox(children=(IntProgress(value=0, max=1800), HTML(value='')))"
      ]
     },
     "metadata": {},
     "output_type": "display_data"
    },
    {
     "data": {
      "application/vnd.jupyter.widget-view+json": {
       "model_id": "988fbb6019c94b3883e506d18b11bd82",
       "version_major": 2,
       "version_minor": 0
      },
      "text/plain": [
       "HBox(children=(IntProgress(value=0, max=1800), HTML(value='')))"
      ]
     },
     "metadata": {},
     "output_type": "display_data"
    },
    {
     "data": {
      "application/vnd.jupyter.widget-view+json": {
       "model_id": "0c9e47e263f74c4c8079677f74cf3035",
       "version_major": 2,
       "version_minor": 0
      },
      "text/plain": [
       "HBox(children=(IntProgress(value=0, max=1800), HTML(value='')))"
      ]
     },
     "metadata": {},
     "output_type": "display_data"
    },
    {
     "data": {
      "application/vnd.jupyter.widget-view+json": {
       "model_id": "95ff5376cd00429d91f5a04bd0866a96",
       "version_major": 2,
       "version_minor": 0
      },
      "text/plain": [
       "HBox(children=(IntProgress(value=0, max=1800), HTML(value='')))"
      ]
     },
     "metadata": {},
     "output_type": "display_data"
    },
    {
     "data": {
      "application/vnd.jupyter.widget-view+json": {
       "model_id": "39c9630f41e442b39a31040dbf700ac7",
       "version_major": 2,
       "version_minor": 0
      },
      "text/plain": [
       "HBox(children=(IntProgress(value=0, max=1800), HTML(value='')))"
      ]
     },
     "metadata": {},
     "output_type": "display_data"
    },
    {
     "data": {
      "application/vnd.jupyter.widget-view+json": {
       "model_id": "0aff3312e79f434ebe1225e9870aff6a",
       "version_major": 2,
       "version_minor": 0
      },
      "text/plain": [
       "HBox(children=(IntProgress(value=0, max=1800), HTML(value='')))"
      ]
     },
     "metadata": {},
     "output_type": "display_data"
    },
    {
     "data": {
      "application/vnd.jupyter.widget-view+json": {
       "model_id": "e21eea9abb46476581beffc45ca22d04",
       "version_major": 2,
       "version_minor": 0
      },
      "text/plain": [
       "HBox(children=(IntProgress(value=0, max=1800), HTML(value='')))"
      ]
     },
     "metadata": {},
     "output_type": "display_data"
    },
    {
     "data": {
      "application/vnd.jupyter.widget-view+json": {
       "model_id": "8c428a6d08a54072be3c5c2a934cb56a",
       "version_major": 2,
       "version_minor": 0
      },
      "text/plain": [
       "HBox(children=(IntProgress(value=0, max=1800), HTML(value='')))"
      ]
     },
     "metadata": {},
     "output_type": "display_data"
    },
    {
     "data": {
      "application/vnd.jupyter.widget-view+json": {
       "model_id": "55be9e71b7574fe3b15de7cfa25aab54",
       "version_major": 2,
       "version_minor": 0
      },
      "text/plain": [
       "HBox(children=(IntProgress(value=0, max=1800), HTML(value='')))"
      ]
     },
     "metadata": {},
     "output_type": "display_data"
    },
    {
     "data": {
      "application/vnd.jupyter.widget-view+json": {
       "model_id": "f9dc774fab764208964b1a38c72c263f",
       "version_major": 2,
       "version_minor": 0
      },
      "text/plain": [
       "HBox(children=(IntProgress(value=0, max=1800), HTML(value='')))"
      ]
     },
     "metadata": {},
     "output_type": "display_data"
    },
    {
     "data": {
      "application/vnd.jupyter.widget-view+json": {
       "model_id": "f7c953d5543e49f180e4c91321efef44",
       "version_major": 2,
       "version_minor": 0
      },
      "text/plain": [
       "HBox(children=(IntProgress(value=0, max=1800), HTML(value='')))"
      ]
     },
     "metadata": {},
     "output_type": "display_data"
    },
    {
     "data": {
      "application/vnd.jupyter.widget-view+json": {
       "model_id": "169390dde88848abadbc3b350cc89c59",
       "version_major": 2,
       "version_minor": 0
      },
      "text/plain": [
       "HBox(children=(IntProgress(value=0, max=1800), HTML(value='')))"
      ]
     },
     "metadata": {},
     "output_type": "display_data"
    },
    {
     "data": {
      "application/vnd.jupyter.widget-view+json": {
       "model_id": "25f8f9f9501b4c5da12b777c0b64c49d",
       "version_major": 2,
       "version_minor": 0
      },
      "text/plain": [
       "HBox(children=(IntProgress(value=0, max=1800), HTML(value='')))"
      ]
     },
     "metadata": {},
     "output_type": "display_data"
    },
    {
     "data": {
      "application/vnd.jupyter.widget-view+json": {
       "model_id": "df6d3cf323e44016af59141a2c339bc0",
       "version_major": 2,
       "version_minor": 0
      },
      "text/plain": [
       "HBox(children=(IntProgress(value=0, max=1800), HTML(value='')))"
      ]
     },
     "metadata": {},
     "output_type": "display_data"
    },
    {
     "data": {
      "application/vnd.jupyter.widget-view+json": {
       "model_id": "f4fbc5ce7ca74c96ae179cd7db723721",
       "version_major": 2,
       "version_minor": 0
      },
      "text/plain": [
       "HBox(children=(IntProgress(value=0, max=1800), HTML(value='')))"
      ]
     },
     "metadata": {},
     "output_type": "display_data"
    },
    {
     "data": {
      "application/vnd.jupyter.widget-view+json": {
       "model_id": "24eccc7d21a54bf786048daf10d03ba2",
       "version_major": 2,
       "version_minor": 0
      },
      "text/plain": [
       "HBox(children=(IntProgress(value=0, max=1800), HTML(value='')))"
      ]
     },
     "metadata": {},
     "output_type": "display_data"
    },
    {
     "data": {
      "application/vnd.jupyter.widget-view+json": {
       "model_id": "74ccaa2084d74218b3a2d642ce980bba",
       "version_major": 2,
       "version_minor": 0
      },
      "text/plain": [
       "HBox(children=(IntProgress(value=0, max=1800), HTML(value='')))"
      ]
     },
     "metadata": {},
     "output_type": "display_data"
    }
   ],
   "source": [
    "# prepare reader\n",
    "ir, shape, metaData = h.startLifReader(FILE_NAME, 0)\n",
    "nf, nz, nx, ny = shape\n",
    "print(\"Found image stack of shape  {}\".format(shape))\n",
    "\n",
    "# read and upload Alignment Frame to GPU\n",
    "h.prepareAlignmentFrame(h.readFrame(ir, ALIGNMENT_FRAME_IDX, nz), MAX_DISPLACEMENT)\n",
    "h.prepareSumTensorsAndInvalidFrames((nz, nx, ny))\n",
    "\n",
    "# create Threads and Queue for image alignment\n",
    "registerQueue = h.createQueue(h.alignPlaneWorker, 36, CPU_THREADS, GPU_THREADS)\n",
    "\n",
    "stdDeviations = np.empty((nz,nx,ny))\n",
    "cellPositions = [None] * nz\n",
    "cellSizes     = [None] * nz\n",
    "cellActivitys = [None] * nz\n",
    "\n",
    "planeStack = np.empty((nf, nx, ny), dtype=np.uint16)\n",
    "for z in tqdm_notebook(range(nz), desc='z Plane'):\n",
    "\n",
    "    # register planes\n",
    "    for f in tqdm_notebook(range(nf)): registerQueue.put((h.readPlane(ir,z,f), z, planeStack, f))\n",
    "    #for f in tqdm_notebook(range(nf)): planeStack[f] = h.toCPU(h.alignPlaneGPU(h.toGPU(h.readPlane(ir,z,f)),z,f))\n",
    "    #for f in tqdm_notebook(range(nf)): planeStack[f] = h.alignPlaneCPU(h.readPlane(ir,z,f),z,f)\n",
    "    registerQueue.join()\n",
    "\n",
    "    # Find Cell Positions\n",
    "    #stdDeviations[z] = h.getPlaneStdDeviation(z, nf)\n",
    "    #cellPositions[z] = h.findCellPositions(stdDeviations[z], NEURON_TEMPLATE, 2, .2, 20)\n",
    "    #cellPositions[z], cellSizes[z] = h.findCellPositionsBlob(stdDeviations[z])\n",
    "    #print(\"Found {} Cells\".format(cellPositions[z].shape[0]))\n",
    "    #h.showInlineScatterAndImage(stdDeviations[z], cellPositions[z], (10,10), \"None\", \"white\", s=cellSizes[z]*10, vmax=100)\n",
    "\n",
    "    # Read Cell Activity over frames\n",
    "    #cellActivitys[z] = h.getActivityOverTime(cellPositions[z], cellSizes[z], planeStack)\n",
    "    \n",
    "    dd.io.save('/Users/koesterlab/bla/plane_%02d.h5' % z, planeStack, compression='blosc')\n",
    "    \n",
    "# calc standard deviation and save everything\n",
    "imsave(STD_DEV_FILE_NAME,   stdDeviations)\n",
    "np.save(CELL_POS_FILE_NAME, cellPositions)\n",
    "np.save(CELL_SIZE_FILE_NAME, cellSizes)\n",
    "np.save(CELL_ACT_FILE_NAME, cellActivitys)\n",
    "invalidFrames = h.getInvalidFrames()\n",
    "np.save(INVALID_FRAMES_FILE_NAME, invalidFrames)\n",
    "print(\"Total cell count: {}\".format(sum([cp.shape[0] for cp in cellPositions])))"
   ]
  },
  {
   "cell_type": "markdown",
   "metadata": {},
   "source": [
    "## Alternative: load traces if already calculated"
   ]
  },
  {
   "cell_type": "code",
   "execution_count": null,
   "metadata": {},
   "outputs": [],
   "source": [
    "stdDeviations = imread(STD_DEV_FILE_NAME)\n",
    "cellPositions = np.load(CELL_POS_FILE_NAME)\n",
    "cellSizes     = np.load(CELL_SIZE_FILE_NAME)\n",
    "cellActivitys = np.load(CELL_ACT_FILE_NAME)\n",
    "invalidFrames = np.load(INVALID_FRAMES_FILE_NAME)"
   ]
  },
  {
   "cell_type": "markdown",
   "metadata": {},
   "source": [
    "# Remove invalid Cells manually"
   ]
  },
  {
   "cell_type": "code",
   "execution_count": null,
   "metadata": {
    "scrolled": false
   },
   "outputs": [],
   "source": [
    "def f(z=0): h.removeCellsByHand(z, stdDeviations, cellPositions, cellSizes, cellActivitys, (900,900), vmax=100)\n",
    "widgets.interact(f, z=range(stdDeviations.shape[0]))"
   ]
  },
  {
   "cell_type": "markdown",
   "metadata": {},
   "source": [
    "### Save Cell Positions and Activity"
   ]
  },
  {
   "cell_type": "code",
   "execution_count": null,
   "metadata": {},
   "outputs": [],
   "source": [
    "np.save(CELL_POS_FILE_NAME, cellPositions)\n",
    "np.save(CELL_SIZE_FILE_NAME, cellSizes)\n",
    "np.save(CELL_ACT_FILE_NAME, cellActivitys)"
   ]
  },
  {
   "cell_type": "markdown",
   "metadata": {},
   "source": [
    "## calculate ΔF/F"
   ]
  },
  {
   "cell_type": "code",
   "execution_count": null,
   "metadata": {},
   "outputs": [],
   "source": [
    "CONTROL_FRAMES_START = 160\n",
    "CONTROL_FRAMES_END   = 180 #invalidFrames[0]\n",
    "cellActDFFs = h.getDFF(cellActivitys, CONTROL_FRAMES_START, CONTROL_FRAMES_END)"
   ]
  },
  {
   "cell_type": "code",
   "execution_count": null,
   "metadata": {
    "scrolled": true
   },
   "outputs": [],
   "source": [
    "def f(z=0): h.showInlineImage(cellActivitys[z], (20,10)) \n",
    "widgets.interact(f, z=range(len(cellActivitys)))"
   ]
  },
  {
   "cell_type": "code",
   "execution_count": null,
   "metadata": {
    "scrolled": false
   },
   "outputs": [],
   "source": [
    "def f(z=0): h.showInlineImage(cellActDFFs[z], (20,10), vmin=-1, vmax=2)   \n",
    "widgets.interact(f, z=range(cellActDFFs.shape[0]))"
   ]
  },
  {
   "cell_type": "markdown",
   "metadata": {},
   "source": [
    "# Visualize in 3D"
   ]
  },
  {
   "cell_type": "code",
   "execution_count": null,
   "metadata": {},
   "outputs": [],
   "source": [
    "maxColWgt = widgets.ColorPicker(value='#00ff00', description='more Activity')\n",
    "midColWgt = widgets.ColorPicker(value='#3333cc', description='same Activity')\n",
    "minColWgt = widgets.ColorPicker(value='#ff0000', description='less Activity')\n",
    "display(widgets.VBox(children=[maxColWgt, midColWgt, minColWgt]))"
   ]
  },
  {
   "cell_type": "code",
   "execution_count": null,
   "metadata": {
    "scrolled": true
   },
   "outputs": [],
   "source": [
    "MIN_VAL = -1.0\n",
    "MID_VAL = 0\n",
    "MAX_VAL = 2.0\n",
    "\n",
    "SIZE_SMALL = 0.1\n",
    "SIZE_LARGE = 1.0\n",
    "\n",
    "cellX, cellY, cellZ, cellC, cellS = h.getCellPositionsColorsSizes(cellPositions, cellActDFFs,\n",
    "                                        minColWgt.value, midColWgt.value, maxColWgt.value,\n",
    "                                        MIN_VAL, MID_VAL, MAX_VAL, SIZE_SMALL, SIZE_LARGE)"
   ]
  },
  {
   "cell_type": "markdown",
   "metadata": {},
   "source": [
    "### Takes time to transfer data to PC for visualization "
   ]
  },
  {
   "cell_type": "code",
   "execution_count": null,
   "metadata": {
    "scrolled": false
   },
   "outputs": [],
   "source": [
    "FRAME_RANGE = range(1700, 1800) #range(invalidFrames[-1], nf-1)\n",
    "SPEED = 10   # in frames per second\n",
    "\n",
    "nz, nx, ny = stdDeviations.shape\n",
    "h.drawInline3DScatter((800,800), (nx,ny,nz), cellX, cellY, cellZ, cellC[FRAME_RANGE], cellS[FRAME_RANGE],\n",
    "                      stdDeviations, 25, SPEED)"
   ]
  },
  {
   "cell_type": "code",
   "execution_count": null,
   "metadata": {},
   "outputs": [],
   "source": []
  },
  {
   "cell_type": "code",
   "execution_count": null,
   "metadata": {},
   "outputs": [],
   "source": [
    "sum([cps.shape[0] for cps in cellPositions])"
   ]
  },
  {
   "cell_type": "code",
   "execution_count": null,
   "metadata": {},
   "outputs": [],
   "source": []
  },
  {
   "cell_type": "code",
   "execution_count": null,
   "metadata": {},
   "outputs": [],
   "source": []
  },
  {
   "cell_type": "code",
   "execution_count": null,
   "metadata": {},
   "outputs": [],
   "source": []
  },
  {
   "cell_type": "code",
   "execution_count": null,
   "metadata": {},
   "outputs": [],
   "source": []
  },
  {
   "cell_type": "code",
   "execution_count": null,
   "metadata": {},
   "outputs": [],
   "source": []
  }
 ],
 "metadata": {
  "kernelspec": {
   "display_name": "Python 3",
   "language": "python",
   "name": "python3"
  },
  "language_info": {
   "codemirror_mode": {
    "name": "ipython",
    "version": 3
   },
   "file_extension": ".py",
   "mimetype": "text/x-python",
   "name": "python",
   "nbconvert_exporter": "python",
   "pygments_lexer": "ipython3",
   "version": "3.6.5"
  }
 },
 "nbformat": 4,
 "nbformat_minor": 2
}
