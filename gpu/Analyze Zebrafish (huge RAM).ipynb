{
 "cells": [
  {
   "cell_type": "code",
   "execution_count": null,
   "metadata": {},
   "outputs": [],
   "source": [
    "import numpy as np\n",
    "import torch as th\n",
    "import h5py\n",
    "from tqdm import tqdm_notebook\n",
    "from skimage.external.tifffile import imread, imsave\n",
    "from skimage.draw import circle\n",
    "from IPython.display import clear_output\n",
    "from os import path as op\n",
    "from sys import path as sp\n",
    "module_path = op.abspath(op.join('..'))\n",
    "if module_path not in sp:  # add local path to import helpers\n",
    "    sp.append(module_path)\n",
    "import helpers as h\n",
    "from importlib import reload\n",
    "import ipywidgets as widgets\n",
    "import deepdish as dd\n",
    "from time import time as timer\n",
    "h = reload(h)"
   ]
  },
  {
   "cell_type": "markdown",
   "metadata": {},
   "source": [
    "# Set Parameters"
   ]
  },
  {
   "cell_type": "code",
   "execution_count": null,
   "metadata": {},
   "outputs": [],
   "source": [
    "CPU_THREADS         = h.getAvailableThreadCount()-2\n",
    "GPU_THREADS         = 2\n",
    "\n",
    "ALIGNMENT_FRAME_IDX = 0     # Frame idx to which others will be aligned (starting at 0) \n",
    "MAX_DISPLACEMENT    = 30    # if displacement of frame is higher it will be discarded\n",
    "\n",
    "FILE_NAME          = \"./data/fish4_stimulus.lif\"\n",
    "TEMPLATE_FILE_NAME = \"./data/cell.tif\"\n",
    "MASK_FILE_NAME     = \"./data/fish1_psy_anatomy_mask.tif\"\n",
    "\n",
    "H5_FILE_NAME = FILE_NAME.replace(\".lif\", \".hdf5\")\n",
    "STD_DEV_FILE_NAME = FILE_NAME.replace(\".lif\", \"_std_div.tif\")\n",
    "INVALID_FRAMES_FILE_NAME = FILE_NAME.replace(\".lif\", \"_invalid_frames.npy\")\n",
    "TRACES_FILE_NAME = FILE_NAME.replace(\".lif\", \"_cell_traces.npy\")\n",
    "CELL_POS_FILE_NAME = FILE_NAME.replace(\".lif\", \"_cell_positions.npy\")"
   ]
  },
  {
   "cell_type": "markdown",
   "metadata": {},
   "source": [
    "# Read stack and align images (Takes ~13,5 minutes for 80GB)"
   ]
  },
  {
   "cell_type": "code",
   "execution_count": null,
   "metadata": {},
   "outputs": [],
   "source": [
    "# prepare reader\n",
    "ir, shape, metaData = h.startLifReader(FILE_NAME, 0)\n",
    "nf, nz, nx, ny = shape\n",
    "print(\"Found image stack of shape  {}\".format(shape))\n",
    "\n",
    "# read and upload Alignment Frame to GPU\n",
    "h.prepareAlignmentFrame(h.readFrame(ir, ALIGNMENT_FRAME_IDX, nz), MAX_DISPLACEMENT)\n",
    "\n",
    "# prepare queues for multithreading\n",
    "frameQueue = h.createQueue(h.alignFrameWorker, (CPU_THREADS+GPU_THREADS)*3, CPU_THREADS, GPU_THREADS)\n",
    "h.prepareSumTensorsAndInvalidFrames((nz, nx, ny))\n",
    "imgStack = np.empty((nf, nz, nx, ny), dtype=np.uint16)\n",
    "t0 = timer()\n",
    "#for f in tqdm_notebook(range(nf)): frameQueue.put([h.readFrame(ir, f, nz), f, f, imgStack])\n",
    "#frameQueue.join()\n",
    "for f in tqdm_notebook(range(nf)): imgStack[f] = h.alignFrameCPU(h.readFrame(ir, f, nz), f)\n",
    "print(timer() - t0)\n",
    "np.save(\"regTime.npy\", timer() - t0)\n",
    "   \n",
    "\n",
    "# calc standard deviation and save invalid Frame indeces\n",
    "invalidFrames, stdDeviation, regError = h.getInvalidFramesStdDeviationError(nf, GPU_THREADS>0)\n",
    "np.save(INVALID_FRAMES_FILE_NAME, sorted(h.invalidFrames))\n",
    "imsave(STD_DEV_FILE_NAME, stdDeviation)\n",
    "print(\"Registrationerror: {}\".format(regError))"
   ]
  },
  {
   "cell_type": "code",
   "execution_count": null,
   "metadata": {},
   "outputs": [],
   "source": [
    "def f(z=0): h.showInlineImage(stdDeviation[z], (8,8))\n",
    "widgets.interact(f, z=(0, nz-1, 1))"
   ]
  },
  {
   "cell_type": "markdown",
   "metadata": {},
   "source": [
    "## save to HDF5 (Takes long)"
   ]
  },
  {
   "cell_type": "code",
   "execution_count": null,
   "metadata": {},
   "outputs": [],
   "source": [
    "dd.io.save(H5_FILE_NAME+\"noComp\", {'stack': [imgStack[:,z] for z in range(nz)]}, compression=('blosc',0))"
   ]
  },
  {
   "cell_type": "code",
   "execution_count": null,
   "metadata": {},
   "outputs": [],
   "source": [
    "# d = {'t0':{'channel0':chunk[0,0], 'shape':shape, 'element_size_um': metaData['spacing']}}\n",
    "# dd.io.save(H5_FILE_NAME, d, compression='blosc')"
   ]
  },
  {
   "cell_type": "markdown",
   "metadata": {},
   "source": [
    "## Alternative: read existing registered Stack (Takes time)"
   ]
  },
  {
   "cell_type": "code",
   "execution_count": null,
   "metadata": {},
   "outputs": [],
   "source": [
    "imgStack = dd.io.load(H5_FILE_NAME, '/stack')"
   ]
  },
  {
   "cell_type": "markdown",
   "metadata": {},
   "source": [
    "### or just read existing Images"
   ]
  },
  {
   "cell_type": "code",
   "execution_count": null,
   "metadata": {},
   "outputs": [],
   "source": [
    "stdDeviation = imread(STD_DEV_FILE_NAME)\n",
    "invalidFrames = np.load(INVALID_FRAMES_FILE_NAME)\n",
    "nz, nx, ny = stdDeviation.shape"
   ]
  },
  {
   "cell_type": "markdown",
   "metadata": {},
   "source": [
    "# Find ROIs\n",
    "Neuron cells will have changed the most so they should be visible as peaks. We look for peaks to find their positions. "
   ]
  },
  {
   "cell_type": "code",
   "execution_count": null,
   "metadata": {},
   "outputs": [],
   "source": [
    "\n",
    "neuronTemplate = imread(TEMPLATE_FILE_NAME)\n",
    "masks = imread(MASK_FILE_NAME) > 0\n",
    "cellPositions = [None] * nz\n",
    "stencils = [None] * nz\n",
    "for z in tqdm_notebook(range(nz)): \n",
    "    m = h.matchTemplateCPU(stdDeviation[z], neuronTemplate)\n",
    "    plm = h.peakLocalMaxCPU(m, min_distance=2, threshold_rel=.2)\n",
    "    plm = np.asarray([(y, x) for x, y in plm if (stdDeviation[z, x, y] > 20)])\n",
    "    cellPositions[z] = plm\n",
    "cellCount = sum([cp.shape[0] for cp in cellPositions])\n",
    "np.save(CELL_POS_FILE_NAME, cellPositions)\n",
    "print(\"Total cell count: {}\".format(cellCount))"
   ]
  },
  {
   "cell_type": "markdown",
   "metadata": {},
   "source": [
    "## Remove invalid Cells by Hand"
   ]
  },
  {
   "cell_type": "code",
   "execution_count": null,
   "metadata": {
    "scrolled": false
   },
   "outputs": [],
   "source": [
    "#widgets.interact(f, z=(0, nz-1, 1))\n",
    "button = widgets.Button(description=\"Save & Next\", button_style='success', icon='check')\n",
    "display(button)\n",
    "plot = h.BokehPlot(\"draw to remove:\", stdDeviation[0].shape, (600, 600))\n",
    "z, x, y = 0, '', '' # x and y are filled in javascipt \"selectCallback\" of Bokeh\n",
    "plot.fillPlot(stdDeviation[z], cellPositions[z])\n",
    "print(\"Plain {}/{}\".format(z+1,nz))\n",
    "def saveAndNext(b):\n",
    "    global z, cellPositions\n",
    "    if x != '':\n",
    "        cellPositions[z] = np.asarray([(x,y) for x,y in zip(map(int,x.split(',')),map(int,y.split(','))) if y>0])\n",
    "        np.save(CELL_POS_FILE_NAME, cellPositions)\n",
    "        cellCount = sum([cp.shape[0] for cp in cellPositions])\n",
    "    if z+1 == nz: \n",
    "        clear_output()\n",
    "        return\n",
    "    z += 1\n",
    "    print(\"Plain {}/{}\".format(z+1,nz))\n",
    "    plot.fillPlot(stdDeviation[z], cellPositions[z])\n",
    "button.on_click(saveAndNext)"
   ]
  },
  {
   "cell_type": "code",
   "execution_count": null,
   "metadata": {},
   "outputs": [],
   "source": [
    "print(\"Total cell count: {}\".format(cellCount))"
   ]
  },
  {
   "cell_type": "markdown",
   "metadata": {},
   "source": [
    "## Optional: See how well found cells fit"
   ]
  },
  {
   "cell_type": "code",
   "execution_count": null,
   "metadata": {
    "scrolled": true
   },
   "outputs": [],
   "source": [
    "def f(z=0): h.showInlineScatterAndImage(stdDeviation[z], cellPositions[z], (15,15), \"None\", \"white\")\n",
    "widgets.interact(f, z=(0, nz-1, 1))"
   ]
  },
  {
   "cell_type": "code",
   "execution_count": null,
   "metadata": {},
   "outputs": [],
   "source": []
  },
  {
   "cell_type": "markdown",
   "metadata": {},
   "source": [
    "# get Cell Traces through frames (Takes a little)\n",
    "Now that we have the cell positions and sizes (as stencils) we can look at those positions in all frames to get the neuron activity in that frame"
   ]
  },
  {
   "cell_type": "code",
   "execution_count": null,
   "metadata": {},
   "outputs": [],
   "source": [
    "RADIUS = 5 # px\n",
    "traces = np.asarray([np.empty((len(cps), nf)) for cps in cellPositions])\n",
    "for z in tqdm_notebook(range(nz)):\n",
    "    for i, pos in enumerate(cellPositions[z]):\n",
    "        stencil = circle(pos[0], pos[1], RADIUS, (nx, ny))\n",
    "        traces[z][i] = imgStack[z][:, stencil[0], stencil[1]].mean(1)\n",
    "np.save(TRACES_FILE_NAME, traces)"
   ]
  },
  {
   "cell_type": "markdown",
   "metadata": {},
   "source": [
    "## Alternative: load traces if already calculated"
   ]
  },
  {
   "cell_type": "code",
   "execution_count": null,
   "metadata": {},
   "outputs": [],
   "source": [
    "traces = np.load(TRACES_FILE_NAME)\n",
    "stdDeviation = imread(STD_DEV_FILE_NAME)\n",
    "invalidFrames = np.load(INVALID_FRAMES_FILE_NAME)\n",
    "cellPositions = np.load(CELL_POS_FILE_NAME)\n",
    "cellCount = sum([cp.shape[0] for cp in cellPositions])\n",
    "nz, nx, ny = stdDeviation.shape\n",
    "nz = len(traces)\n",
    "nf = traces[0].shape[1]"
   ]
  },
  {
   "cell_type": "markdown",
   "metadata": {},
   "source": [
    "## free memory"
   ]
  },
  {
   "cell_type": "code",
   "execution_count": null,
   "metadata": {},
   "outputs": [],
   "source": [
    "stencils = None\n",
    "imgStack = None "
   ]
  },
  {
   "cell_type": "markdown",
   "metadata": {},
   "source": [
    "## calculate ΔF/F"
   ]
  },
  {
   "cell_type": "code",
   "execution_count": null,
   "metadata": {},
   "outputs": [],
   "source": [
    "CONTROL_FRAMES_START = 1\n",
    "CONTROL_FRAMES_END   = invalidFrames[0]\n",
    "cell_dFFs = np.asarray([np.empty((len(trace), nf)) for trace in traces])\n",
    "for z in range(nz):\n",
    "    normalCellIntensities = traces[z][:,CONTROL_FRAMES_START:CONTROL_FRAMES_END].mean(1)\n",
    "    cell_dFFs[z] = ((traces[z].T - normalCellIntensities)/(normalCellIntensities)).T"
   ]
  },
  {
   "cell_type": "code",
   "execution_count": null,
   "metadata": {
    "scrolled": true
   },
   "outputs": [],
   "source": [
    "def f(z=0): h.showInlineImage(traces[z], (20,10), vmin=-250, vmax=500)   \n",
    "widgets.interact(f, z=(0, nz-1, 1))"
   ]
  },
  {
   "cell_type": "code",
   "execution_count": null,
   "metadata": {
    "scrolled": true
   },
   "outputs": [],
   "source": [
    "def f(z=0): h.showInlineImage(cell_dFFs[z], (20,10), vmin=-1, vmax=1)   \n",
    "widgets.interact(f, z=(0, nz-1, 1))"
   ]
  },
  {
   "cell_type": "markdown",
   "metadata": {},
   "source": [
    "# Visualize in 3D"
   ]
  },
  {
   "cell_type": "code",
   "execution_count": null,
   "metadata": {},
   "outputs": [],
   "source": [
    "maxColWgt = widgets.ColorPicker(value='#00ff00', description='more Activity')\n",
    "midColWgt = widgets.ColorPicker(value='#3333cc', description='same Activity')\n",
    "minColWgt = widgets.ColorPicker(value='#ff0000', description='less Activity')\n",
    "display(widgets.VBox(children=[maxColWgt, midColWgt, minColWgt]))"
   ]
  },
  {
   "cell_type": "code",
   "execution_count": null,
   "metadata": {
    "scrolled": true
   },
   "outputs": [],
   "source": [
    "MIN_DFF = -1.0\n",
    "MAX_DFF = 2.0\n",
    "SIZE_SMALL = 0.1\n",
    "SIZE_LARGE = 1.0\n",
    "\n",
    "cellX, cellY, cellZ, cellC, cellS = h.getCellPositionsColorsSizes(cellPositions, cell_dFFs,\n",
    "                                        maxColWgt.value, midColWgt.value, minColWgt.value,\n",
    "                                        MIN_DFF, MAX_DFF, SIZE_SMALL, SIZE_LARGE)"
   ]
  },
  {
   "cell_type": "markdown",
   "metadata": {},
   "source": [
    "### Takes time to transfer data to PC for visualization "
   ]
  },
  {
   "cell_type": "code",
   "execution_count": null,
   "metadata": {
    "scrolled": false
   },
   "outputs": [],
   "source": [
    "VIS_FRAMES_START = 1500 #invalidFrames[-1]\n",
    "VIS_FRAMES_END   = 1600 #nf-1\n",
    "SPEED = 10   # in frames per second\n",
    "\n",
    "h.drawInline3DScatter((800,800), (nx,ny,nz), cellX, cellY, cellZ, cellC, cellS, \n",
    "                      VIS_FRAMES_START, VIS_FRAMES_END, SPEED)"
   ]
  },
  {
   "cell_type": "code",
   "execution_count": null,
   "metadata": {},
   "outputs": [],
   "source": []
  },
  {
   "cell_type": "code",
   "execution_count": null,
   "metadata": {},
   "outputs": [],
   "source": []
  },
  {
   "cell_type": "code",
   "execution_count": null,
   "metadata": {},
   "outputs": [],
   "source": []
  },
  {
   "cell_type": "code",
   "execution_count": null,
   "metadata": {},
   "outputs": [],
   "source": []
  },
  {
   "cell_type": "code",
   "execution_count": null,
   "metadata": {},
   "outputs": [],
   "source": []
  },
  {
   "cell_type": "code",
   "execution_count": null,
   "metadata": {},
   "outputs": [],
   "source": []
  }
 ],
 "metadata": {
  "kernelspec": {
   "display_name": "Python 3",
   "language": "python",
   "name": "python3"
  },
  "language_info": {
   "codemirror_mode": {
    "name": "ipython",
    "version": 3
   },
   "file_extension": ".py",
   "mimetype": "text/x-python",
   "name": "python",
   "nbconvert_exporter": "python",
   "pygments_lexer": "ipython3",
   "version": "3.5.2"
  }
 },
 "nbformat": 4,
 "nbformat_minor": 2
}
