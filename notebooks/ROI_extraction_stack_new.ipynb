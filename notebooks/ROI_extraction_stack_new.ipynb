{
 "cells": [
  {
   "cell_type": "code",
   "execution_count": null,
   "metadata": {},
   "outputs": [],
   "source": [
    "from ipywidgets import interact\n",
    "import matplotlib.pyplot as plt\n",
    "import matplotlib.patches\n",
    "import numpy as np\n",
    "from pyprind import prog_percent\n",
    "import random\n",
    "from skimage.io import imread, imsave\n",
    "from zebrafishframework import io\n",
    "from zebrafishframework import rendering\n",
    "from zebrafishframework import segmentation\n",
    "\n",
    "from importlib import reload"
   ]
  },
  {
   "cell_type": "code",
   "execution_count": null,
   "metadata": {},
   "outputs": [],
   "source": [
    "rendering = reload(rendering)\n",
    "segmentation = reload(segmentation)"
   ]
  },
  {
   "cell_type": "code",
   "execution_count": null,
   "metadata": {},
   "outputs": [],
   "source": [
    "#base = '/Users/koesterlab/Registrations/series/calcium/fish18_6dpf_medium'\n",
    "base = '/Users/koesterlab/registered/control/fish22_6dpf_medium'\n",
    "roi_file = base + '_rois.pickle'\n",
    "rendering_file = base + '_rendering.mp4'\n",
    "template = imread(r\"/Users/koesterlab/andreas_code/cell.tif\")\n",
    "anatomy      = imread(base + \"_std_div.tif\")\n",
    "#mask         = imread(base + \"_anatomy_mask.tif\") > 0\n",
    "mask = np.ones(anatomy.shape) # no mask\n",
    "#displacement = np.load(base + \"_registration_meta.npy\")\n",
    "#trace        = dd.io.load(base + \"_aligned.h5\")['stack']\n",
    "trace        = io.read_h5py(base + '.hdf5')"
   ]
  },
  {
   "cell_type": "code",
   "execution_count": null,
   "metadata": {},
   "outputs": [],
   "source": [
    "anatomy_std = segmentation.std(trace, anatomy)"
   ]
  },
  {
   "cell_type": "code",
   "execution_count": null,
   "metadata": {},
   "outputs": [],
   "source": [
    "plt.figure(figsize=(12, 12))\n",
    "plt.imshow(anatomy_std[10],aspect='auto')"
   ]
  },
  {
   "cell_type": "code",
   "execution_count": null,
   "metadata": {},
   "outputs": [],
   "source": [
    "rois = segmentation.find_rois_andreas(anatomy_std, template=template, trace=trace)"
   ]
  },
  {
   "cell_type": "code",
   "execution_count": null,
   "metadata": {},
   "outputs": [],
   "source": [
    "roi_map = segmentation.draw_rois(rois, anatomy_std)\n",
    "@interact\n",
    "def browse(i:(0,20)):\n",
    "    plt.figure(figsize=(12,12))\n",
    "    plt.imshow(roi_map[i])"
   ]
  },
  {
   "cell_type": "code",
   "execution_count": null,
   "metadata": {},
   "outputs": [],
   "source": [
    "import pickle\n",
    "with open(roi_file, 'wb') as f:\n",
    "    pickle.dump(rois, f)"
   ]
  },
  {
   "cell_type": "code",
   "execution_count": null,
   "metadata": {},
   "outputs": [],
   "source": []
  },
  {
   "cell_type": "code",
   "execution_count": null,
   "metadata": {},
   "outputs": [],
   "source": [
    "traces_dFF = segmentation.dFF(np.array([roi['trace'] for roi in rois]), np.arange(100, 160))"
   ]
  },
  {
   "cell_type": "code",
   "execution_count": null,
   "metadata": {},
   "outputs": [],
   "source": [
    "traces_dFF_backup = traces_dFF.copy()"
   ]
  },
  {
   "cell_type": "markdown",
   "metadata": {},
   "source": [
    "Sanity checking. Render rois over source"
   ]
  },
  {
   "cell_type": "code",
   "execution_count": null,
   "metadata": {},
   "outputs": [],
   "source": [
    "ts = np.arange(800, 1000, 1)\n",
    "zs = np.array([10])\n",
    "activity = np.zeros(tuple(ts.shape) + tuple(zs.shape) + tuple(trace.shape[2:]) + (3,), dtype=trace.dtype)"
   ]
  },
  {
   "cell_type": "code",
   "execution_count": null,
   "metadata": {},
   "outputs": [],
   "source": [
    "for i, t in prog_percent(list(enumerate(ts))):\n",
    "    activity[i,:,:,:] = np.expand_dims(trace[t][zs], axis=3)"
   ]
  },
  {
   "cell_type": "code",
   "execution_count": null,
   "metadata": {},
   "outputs": [],
   "source": [
    "range_dFF = np.max(traces_dFF)\n",
    "dFF_factor = 1000\n",
    "dFF_off = 2"
   ]
  },
  {
   "cell_type": "code",
   "execution_count": null,
   "metadata": {},
   "outputs": [],
   "source": [
    "from skimage.draw import circle\n",
    "radius = 2\n",
    "\n",
    "# zmap[z] is index of plane z in zs\n",
    "zmap = [np.where(zs == i)[0][0] if i in zs else -1 for i in range(trace.shape[1])]\n",
    "\n",
    "filtered_rois = list(filter(lambda roi: roi['z'] in zs, rois))\n",
    "\n",
    "for i, t in prog_percent(list(enumerate(ts))):\n",
    "    for roi_id, v in list(enumerate(filtered_rois)):\n",
    "        x, y = v['x'], v['y']\n",
    "        z = zmap[v['z']]\n",
    "        #circle_xy = circle(x, y, radius, activity.shape[2:4])\n",
    "        c = (traces_dFF[roi_id, t] + dFF_off)*dFF_factor\n",
    "        #        c = colors[np.argmin((vals-traces_dFF[roi_id, t])**2)]\n",
    "        activity[i][z][x][y][0] = 2000\n"
   ]
  },
  {
   "cell_type": "code",
   "execution_count": null,
   "metadata": {},
   "outputs": [],
   "source": [
    "!rm sanity_check_tzyxc.h5"
   ]
  },
  {
   "cell_type": "code",
   "execution_count": null,
   "metadata": {},
   "outputs": [],
   "source": [
    "import h5py\n",
    "h5f = h5py.File('sanity_check_tzyxc.h5')\n",
    "h5f.create_dataset('stack', data=activity)\n",
    "h5f.flush()\n",
    "h5f.close()"
   ]
  },
  {
   "cell_type": "markdown",
   "metadata": {},
   "source": [
    "Unsorted dFF"
   ]
  },
  {
   "cell_type": "code",
   "execution_count": null,
   "metadata": {},
   "outputs": [],
   "source": [
    "plt.figure(figsize=(12,10))\n",
    "plt.imshow(traces_dFF,aspect='auto', vmax=2)\n",
    "plt.colorbar()"
   ]
  },
  {
   "cell_type": "code",
   "execution_count": null,
   "metadata": {},
   "outputs": [],
   "source": [
    "plt.figure(figsize=(12,10))\n",
    "plt.imshow(traces_dFF[np.argsort(np.average(traces_dFF, axis=1))],aspect='auto', vmax=2)\n",
    "#plt.xlim((600, 800))\n",
    "plt.colorbar()"
   ]
  },
  {
   "cell_type": "code",
   "execution_count": null,
   "metadata": {},
   "outputs": [],
   "source": [
    "F = np.array([roi['trace'] for roi in rois])\n",
    "mean_F = np.mean(F, axis=0)\n",
    "mean_trace = np.mean(filtered_dFF, axis=0)\n",
    "\n",
    "import scipy.stats\n",
    "\n",
    "(a_s, b_s, r, tt, stderr) = scipy.stats.linregress(ts[:], np.log(mean_F[:]))\n",
    "reg = np.exp(b_s+a_s*ts)\n",
    "\n",
    "plt.figure(figsize=(12,10))\n",
    "#plt.ylim((0, 350))\n",
    "#plt.plot(ts, mean_F, 'blue')\n",
    "#plt.plot(ts, reg, 'red')\n",
    "#plt.plot(ts, mean_trace-.1*std_trace, 'red', alpha=.5)\n",
    "#plt.plot(ts, mean_trace+.1*std_trace, 'red', alpha=.5)\n",
    "\n",
    "# from some controls\n",
    "a_s = -0.00015\n",
    "\n",
    "factors = np.exp(-a_s*ts)\n",
    "\n",
    "F_adjusted = F*factors\n",
    "dFF_adjusted = segmentation.dFF(F_adjusted, np.arange(100, 160))\n",
    "\n",
    "plt.plot(ts, np.mean(F, axis=0))"
   ]
  },
  {
   "cell_type": "code",
   "execution_count": null,
   "metadata": {},
   "outputs": [],
   "source": [
    "a_s"
   ]
  },
  {
   "cell_type": "code",
   "execution_count": null,
   "metadata": {},
   "outputs": [],
   "source": [
    "plt.figure(figsize=(12,10))\n",
    "#plt.ylim((-1, 2))\n",
    "plt.xlim((800, 1000))\n",
    "\n",
    "ts = np.arange(F.shape[1])\n",
    "choices = np.arange(np.alen(F))\n",
    "random.shuffle(choices)\n",
    "choices = choices[:100]\n",
    "\n",
    "chosen = F[choices]\n",
    "\n",
    "for trc in chosen:\n",
    "    plt.plot(ts, trc, color='red', alpha=.05)\n",
    "\"\"\"\n",
    "\n",
    "for filt in filtered:\n",
    "    plt.plot(ts, filt, color='black', alpha=.05)\n",
    "\n",
    "\"\"\""
   ]
  },
  {
   "cell_type": "markdown",
   "metadata": {},
   "source": [
    "Render traces"
   ]
  },
  {
   "cell_type": "code",
   "execution_count": null,
   "metadata": {},
   "outputs": [],
   "source": [
    "rendering = reload(rendering)\n",
    "render_ts = np.arange(0, 1800, 1)\n",
    "\n",
    "def color_func(dFF):\n",
    "    final_a = (0, 255, 0)\n",
    "    final_b = (255, 0, 255)\n",
    "    alpha = 1\n",
    "    max_dFF = 1\n",
    "    c = np.array(final_b if dFF > 0 else final_a, dtype=np.float32)\n",
    "    dFF = min(abs(dFF), max_dFF)/max_dFF\n",
    "    return np.array(c*alpha*dFF, dtype=np.uint8)\n",
    "\n",
    "activity = rendering.orthogonal(rois, filtered_dFF, color_func, render_ts, (1024, 1024))\n",
    "plt.figure(figsize=(12,10))\n",
    "plt.imshow(np.array(activity[0], dtype=np.uint8))\n"
   ]
  },
  {
   "cell_type": "code",
   "execution_count": null,
   "metadata": {},
   "outputs": [],
   "source": [
    "rendering.to_file(base + '_rendering.mp4', activity)"
   ]
  },
  {
   "cell_type": "code",
   "execution_count": null,
   "metadata": {},
   "outputs": [],
   "source": [
    "#plt.figure(figsize=(12,10))\n",
    "def visualize_clustering(dFF, clustering):\n",
    "    n = np.max(clustering) + 1\n",
    "    cmap = plt.cm.get_cmap('hsv', n+1)\n",
    "    color_func = lambda roi_id: np.array(cmap(km.labels_[roi_id])[:3])*255\n",
    "    \n",
    "    for cluster in range(n):\n",
    "        fig = plt.figure(figsize=(12,5))\n",
    "        cluster_traces = dFF[clustering == cluster]\n",
    "        img = plt.imshow(cluster_traces[np.argsort(np.average(cluster_traces, axis=1))],aspect='auto', vmax=2)\n",
    "        plt.title('cluster %d' % (cluster + 1), color=cmap(cluster))\n",
    "        plt.colorbar()\n",
    "    \n",
    "    t = np.arange(traces_dFF.shape[1])\n",
    "    \"\"\"\n",
    "    bins = np.arange(2, -1, .01)\n",
    "    im = np.zeros((bins.shape[0], t.shape[0], 3))\n",
    "    im.axes.yaxis.\n",
    "    \"\"\"\n",
    "\n",
    "    plt.figure(figsize=(12,10))\n",
    "    \n",
    "    plt.ylim((-1, 2))\n",
    "    for cluster in range(n):\n",
    "        cluster_traces = dFF[clustering == cluster]\n",
    "        random.shuffle(cluster_traces)\n",
    "        for trace in cluster_traces[:200]:\n",
    "            plt.plot(t, trace, color=cmap(cluster), alpha=.005)\n",
    "    \n",
    "    roi_map = segmentation.draw_rois(rois, anatomy_std, color_func=color_func)\n",
    "    @interact\n",
    "    def browse(i:(0,20)):\n",
    "        plt.figure(figsize=(12,12))\n",
    "        plt.imshow(roi_map[i])\n"
   ]
  },
  {
   "cell_type": "markdown",
   "metadata": {},
   "source": [
    "Sorted dFF"
   ]
  },
  {
   "cell_type": "code",
   "execution_count": null,
   "metadata": {},
   "outputs": [],
   "source": [
    "indices = np.argsort(np.average(filtered_dFF[:, 1600:], axis=1))\n",
    "\n",
    "def map_to_group(index, n):\n",
    "    percentile = index/n\n",
    "    if percentile < .2:\n",
    "        return 0\n",
    "    if percentile > .8:\n",
    "        return 2\n",
    "    return 1\n",
    "\n",
    "clustering = np.array(list(map(lambda e: map_to_group(e, filtered_dFF.shape[0]), np.argsort(indices))))\n",
    "\n",
    "\"\"\"\n",
    "plt.figure(figsize=(12,10))\n",
    "plt.imshow(traces_dFF[indices],aspect='auto', vmax=2)\n",
    "plt.colorbar()\n",
    "\"\"\"\n",
    "\n"
   ]
  },
  {
   "cell_type": "code",
   "execution_count": null,
   "metadata": {
    "scrolled": false
   },
   "outputs": [],
   "source": [
    "%%time\n",
    "visualize_clustering(filtered_dFF, clustering)"
   ]
  },
  {
   "cell_type": "markdown",
   "metadata": {},
   "source": [
    "Clustered traces"
   ]
  },
  {
   "cell_type": "code",
   "execution_count": null,
   "metadata": {},
   "outputs": [],
   "source": [
    "%%time\n",
    "n = 10\n",
    "from sklearn.cluster import KMeans\n",
    "km = KMeans(n)\n",
    "km.fit(filtered_dFF[:,1000:1600])"
   ]
  },
  {
   "cell_type": "code",
   "execution_count": null,
   "metadata": {
    "scrolled": false
   },
   "outputs": [],
   "source": [
    "%%time\n",
    "visualize_clustering(filtered_dFF, km.labels_)"
   ]
  },
  {
   "cell_type": "code",
   "execution_count": null,
   "metadata": {},
   "outputs": [],
   "source": [
    "roi_map = segmentation.draw_rois(rois, anatomy_std, color_func=color_func)\n",
    "@interact\n",
    "def browse(i:(0,20)):\n",
    "    plt.figure(figsize=(12,12))\n",
    "    plt.imshow(roi_map[i])"
   ]
  },
  {
   "cell_type": "code",
   "execution_count": null,
   "metadata": {},
   "outputs": [],
   "source": [
    "mean_before = traces_dFF[:,100:160].mean(1)\n",
    "mean_after  = traces_dFF[:,700:].mean(1)\n",
    "bins = np.arange(-1, 2, .02)\n",
    "before_hist = np.histogram(mean_before, bins=bins)\n",
    "after_hist = np.histogram(mean_after, bins=bins)"
   ]
  },
  {
   "cell_type": "code",
   "execution_count": null,
   "metadata": {},
   "outputs": [],
   "source": [
    "plt.figure(figsize=(12, 10))\n",
    "#plt.hist(mean_before, bins, alpha=.5, label='before')\n",
    "plt.hist(mean_after, bins, alpha=.5, label='after')\n",
    "plt.legend(loc=0)\n",
    "plt.show()"
   ]
  },
  {
   "cell_type": "code",
   "execution_count": null,
   "metadata": {},
   "outputs": [],
   "source": []
  },
  {
   "cell_type": "code",
   "execution_count": null,
   "metadata": {},
   "outputs": [],
   "source": []
  },
  {
   "cell_type": "code",
   "execution_count": null,
   "metadata": {},
   "outputs": [],
   "source": []
  }
 ],
 "metadata": {
  "kernelspec": {
   "display_name": "Python 3",
   "language": "python",
   "name": "python3"
  },
  "language_info": {
   "codemirror_mode": {
    "name": "ipython",
    "version": 3
   },
   "file_extension": ".py",
   "mimetype": "text/x-python",
   "name": "python",
   "nbconvert_exporter": "python",
   "pygments_lexer": "ipython3",
   "version": "3.6.5"
  }
 },
 "nbformat": 4,
 "nbformat_minor": 2
}
