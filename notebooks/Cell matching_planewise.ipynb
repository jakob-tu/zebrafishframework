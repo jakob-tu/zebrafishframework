{
 "cells": [
  {
   "cell_type": "code",
   "execution_count": null,
   "metadata": {},
   "outputs": [],
   "source": [
    "import ants\n",
    "from glob import glob\n",
    "from importlib import reload\n",
    "import matplotlib.pyplot as plt\n",
    "import numpy as np\n",
    "import os.path\n",
    "import pickle\n",
    "from pyprind import prog_percent\n",
    "from skimage.io import imread\n",
    "import re\n",
    "\n",
    "from zebrafishframework import ants_cmd\n",
    "from zebrafishframework import io\n",
    "from zebrafishframework import regtools\n",
    "from zebrafishframework import rendering\n",
    "from zebrafishframework import signal\n",
    "\n",
    "regtools = reload(regtools)"
   ]
  },
  {
   "cell_type": "code",
   "execution_count": null,
   "metadata": {},
   "outputs": [],
   "source": [
    "base = '/Users/koesterlab/segmented/control/'\n",
    "base_mask = '/Users/koesterlab/masks/'\n",
    "base_fn = base + 'fish%02d_6dpf_medium'\n",
    "r = re.compile('.*fish(?P<num>\\d+).*')\n",
    "fish_ids = []\n",
    "for f in glob(base + '*.h5'):\n",
    "    num = int(r.match(f).group('num'))\n",
    "    fish_ids.append(num)\n",
    "    \n",
    "all_rois = [np.load((base_fn + '_rois.npy') % i) for i in fish_ids]\n",
    "all_traces = [np.load((base_fn + '_traces.npy') % i) for i in fish_ids]\n",
    "\n",
    "fish_ids"
   ]
  },
  {
   "cell_type": "code",
   "execution_count": null,
   "metadata": {},
   "outputs": [],
   "source": [
    "align_to_fish = 12\n",
    "align_to = fish_ids.index(align_to_fish)"
   ]
  },
  {
   "cell_type": "code",
   "execution_count": null,
   "metadata": {},
   "outputs": [],
   "source": [
    "cell_patterns = list(map(lambda e: regtools.points_to_image(e), prog_percent(all_rois)))"
   ]
  },
  {
   "cell_type": "code",
   "execution_count": null,
   "metadata": {
    "scrolled": false
   },
   "outputs": [],
   "source": [
    "for i, cp in enumerate(cell_patterns):\n",
    "    plt.figure(figsize=(12, 12))\n",
    "    plt.imshow(cp[10])"
   ]
  },
  {
   "cell_type": "code",
   "execution_count": null,
   "metadata": {},
   "outputs": [],
   "source": [
    "transformed_rois = []\n",
    "transformations = []\n",
    "for fish_id, rois, cp in prog_percent(list(zip(fish_ids, all_rois, cell_patterns))):\n",
    "    if fish_id == fish_ids[align_to]:\n",
    "        transformations.append(None)\n",
    "        transformed_rois.append([np.array((x, y, z), np.int) for x, y, z, _ in rois])\n",
    "        continue\n",
    "    warped, tform = regtools.planewise_affine(cell_patterns[align_to], cp, return_transforms=True)\n",
    "    transformed_rois.append(regtools.transform_planewise_points(rois, tform))\n",
    "    transformations.append(tform)"
   ]
  },
  {
   "cell_type": "code",
   "execution_count": null,
   "metadata": {},
   "outputs": [],
   "source": [
    "np.mean([t[1] for t in transformations if t])"
   ]
  },
  {
   "cell_type": "code",
   "execution_count": null,
   "metadata": {},
   "outputs": [],
   "source": [
    "cmap = plt.get_cmap('hsv', len(transformed_rois))\n",
    "colors = [(np.array(cmap(i))*255)[:3].astype(np.uint8) for i in range(len(transformed_rois))]"
   ]
  },
  {
   "cell_type": "code",
   "execution_count": null,
   "metadata": {},
   "outputs": [],
   "source": [
    "transformed_rois_bak = transformed_rois.copy()"
   ]
  },
  {
   "cell_type": "code",
   "execution_count": null,
   "metadata": {},
   "outputs": [],
   "source": [
    "transformed_rois = [rois if rois.shape[1]==3 else rois[:,:3].astype(np.int) for rois in transformed_rois_bak]"
   ]
  },
  {
   "cell_type": "code",
   "execution_count": null,
   "metadata": {},
   "outputs": [],
   "source": [
    "def argfilter_rois(rois, shape=(1024, 1024, 21)):\n",
    "    filtered = []\n",
    "    for roi_id, roi in enumerate(rois):\n",
    "        if np.any(roi < 0):\n",
    "            continue\n",
    "        if np.any(roi >= shape):\n",
    "            continue\n",
    "        filtered.append(roi_id)\n",
    "    return np.array(filtered)\n",
    "\n",
    "rois_ids = np.array(list(map(argfilter_rois, transformed_rois)))"
   ]
  },
  {
   "cell_type": "code",
   "execution_count": null,
   "metadata": {},
   "outputs": [],
   "source": [
    "filtered_rois = [t[ids] for t, ids in zip(transformed_rois, rois_ids)]\n",
    "filtered_traces = [t[ids] for t, ids in zip(all_traces, rois_ids)]"
   ]
  },
  {
   "cell_type": "code",
   "execution_count": null,
   "metadata": {
    "scrolled": false
   },
   "outputs": [],
   "source": [
    "def render_rois(ndas, colors, matching=None, planes=[10], shape=(1024, 1024)):\n",
    "    image = np.zeros(shape + (3,), dtype=np.uint8)\n",
    "    for nda, color in zip(ndas, colors):\n",
    "        for roi in nda:\n",
    "            x, y, z = roi\n",
    "            if z in planes:\n",
    "                image[y, x] += color\n",
    "    \n",
    "    if matching:\n",
    "        pass\n",
    "    \n",
    "    return image\n",
    "\n",
    "for p in np.arange(1, 19):\n",
    "    image = render_rois(filtered_rois, colors, planes=[p])\n",
    "    plt.figure(figsize=(12, 12))\n",
    "    plt.imshow(image)"
   ]
  },
  {
   "cell_type": "code",
   "execution_count": null,
   "metadata": {},
   "outputs": [],
   "source": [
    "rendering = reload(rendering)\n",
    "\n",
    "render_ts = np.arange(0, 1800, 1)\n",
    "render_rois = np.array(all_rois)\n",
    "render_rois = render_rois.reshape(-1, render_rois.shape[-1])\n",
    "render_traces = np.array(all_traces)\n",
    "render_traces = render_traces.reshape(-1, 1)\n",
    "render_traces = signal.correct_bleaching(render_ts, render_traces, -0.000065)\n",
    "render_dFF = signal.dFF(render_traces, np.arange(110, 160))"
   ]
  },
  {
   "cell_type": "code",
   "execution_count": null,
   "metadata": {},
   "outputs": [],
   "source": [
    "render_dFF.shape, render_rois.shape"
   ]
  },
  {
   "cell_type": "code",
   "execution_count": null,
   "metadata": {},
   "outputs": [],
   "source": [
    "def color_func(dFF):\n",
    "    final_a = (0, 255, 0)\n",
    "    final_b = (255, 0, 255)\n",
    "    alpha = 1\n",
    "    max_dFF = 1\n",
    "    c = np.array(final_b if dFF > 0 else final_a, dtype=np.float32)\n",
    "    dFF = min(abs(dFF), max_dFF)/max_dFF\n",
    "    return np.array(c*alpha*dFF, dtype=np.uint8)\n",
    "\n",
    "activity = rendering.orthogonal(render_rois, render_dFF, color_func, render_ts, (1024, 1024))\n",
    "plt.figure(figsize=(12,10))\n",
    "plt.imshow(np.array(activity[0], dtype=np.uint8))"
   ]
  },
  {
   "cell_type": "code",
   "execution_count": null,
   "metadata": {},
   "outputs": [],
   "source": [
    "def initial_solution(ndas):\n",
    "    dim = max(map(np.alen, ndas))\n",
    "    num = np.alen(ndas)\n",
    "    sol = np.full((dim, num), -1, dtype=np.int32)\n",
    "    for i, rois in enumerate(ndas):\n",
    "        \n",
    "    return sol"
   ]
  },
  {
   "cell_type": "code",
   "execution_count": null,
   "metadata": {},
   "outputs": [],
   "source": [
    "initial_solution([a, b])"
   ]
  },
  {
   "cell_type": "code",
   "execution_count": null,
   "metadata": {},
   "outputs": [],
   "source": [
    "args = ants_zff.AntsArguments(input_file=std_dev_b, reference=std_dev_a, params=ants_zff.get_default_params()[:2])\n",
    "args.output_folder = os.path.join('/Users/koesterlab/ants_tmp', args.output_folder)\n",
    "res = ants_zff.run_antsreg(args)"
   ]
  }
 ],
 "metadata": {
  "kernelspec": {
   "display_name": "Python 3",
   "language": "python",
   "name": "python3"
  },
  "language_info": {
   "codemirror_mode": {
    "name": "ipython",
    "version": 3
   },
   "file_extension": ".py",
   "mimetype": "text/x-python",
   "name": "python",
   "nbconvert_exporter": "python",
   "pygments_lexer": "ipython3",
   "version": "3.6.5"
  }
 },
 "nbformat": 4,
 "nbformat_minor": 2
}
