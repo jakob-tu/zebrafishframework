{
 "cells": [
  {
   "cell_type": "code",
   "execution_count": null,
   "metadata": {},
   "outputs": [],
   "source": [
    "import ants\n",
    "from glob import glob\n",
    "from importlib import reload\n",
    "from ipywidgets import interact\n",
    "import matplotlib.pyplot as plt\n",
    "import numpy as np\n",
    "import os.path\n",
    "import pickle\n",
    "from pyprind import prog_percent\n",
    "from skimage.io import imread\n",
    "import re\n",
    "\n",
    "from zebrafishframework import ants_cmd\n",
    "from zebrafishframework import img\n",
    "from zebrafishframework import io\n",
    "from zebrafishframework import regtools\n",
    "from zebrafishframework import rendering\n",
    "from zebrafishframework import segmentation\n",
    "from zebrafishframework import signal\n",
    "\n",
    "regtools = reload(regtools)\n",
    "segmentation = reload(segmentation)\n",
    "img = reload(img)\n",
    "ants_cmd = reload(ants_cmd)\n",
    "rendering = reload(rendering)"
   ]
  },
  {
   "cell_type": "code",
   "execution_count": null,
   "metadata": {},
   "outputs": [],
   "source": [
    "base = '/Users/koesterlab/segmented/control/'\n",
    "base_mask = '/Users/koesterlab/masks/'\n",
    "base_fn = base + 'fish%02d_6dpf_medium'\n",
    "r = re.compile('.*fish(?P<num>\\d+).*')\n",
    "fish_ids = []\n",
    "for f in glob(base + '*.h5'):\n",
    "    num = int(r.match(f).group('num'))\n",
    "    fish_ids.append(num)\n",
    "    \n",
    "all_rois_raw = [np.load((base_fn + '_rois.npy') % i) for i in prog_percent(fish_ids)]\n",
    "all_traces_raw = [np.load((base_fn + '_traces.npy') % i) for i in prog_percent(fish_ids)]\n",
    "all_anatomies_raw = [io.load((base_fn + '_std_dev.h5') % i)[0] for i in prog_percent(fish_ids)]\n",
    "\n",
    "fish_ids"
   ]
  },
  {
   "cell_type": "code",
   "execution_count": null,
   "metadata": {},
   "outputs": [],
   "source": [
    "enlarge_xy = (1500 - 1024)/2\n",
    "enlarge_z = 3\n",
    "enlarge_by = [(enlarge_z, enlarge_z)] + [(enlarge_xy, enlarge_xy)]*2\n",
    "enlarge_by"
   ]
  },
  {
   "cell_type": "code",
   "execution_count": null,
   "metadata": {},
   "outputs": [],
   "source": [
    "all_rois = [img.enlarge_points(rois, enlarge_by) for rois in prog_percent(all_rois_raw)]\n",
    "all_anatomies = [img.enlarge_image(anatomy, enlarge_by) for anatomy in prog_percent(all_anatomies_raw)]"
   ]
  },
  {
   "cell_type": "code",
   "execution_count": null,
   "metadata": {},
   "outputs": [],
   "source": [
    "all_anatomies = all_anatomies_raw.copy()\n",
    "all_rois = all_rois_raw.copy()\n",
    "all_traces = all_traces_raw.copy()"
   ]
  },
  {
   "cell_type": "code",
   "execution_count": null,
   "metadata": {},
   "outputs": [],
   "source": [
    "align_to_fish = 12\n",
    "align_to = fish_ids.index(align_to_fish)"
   ]
  },
  {
   "cell_type": "code",
   "execution_count": null,
   "metadata": {},
   "outputs": [],
   "source": [
    "params = ants_cmd.get_default_params()[:1]\n",
    "\n",
    "tmpdir = '/Users/koesterlab/tmp/'\n",
    "ref_fn = tmpdir + 'ref.nrrd'\n",
    "io.save(ref_fn, all_anatomies[align_to], spacing=io.SPACING_JAKOB)\n",
    "transforms = []\n",
    "for i, (anatomy, rois) in prog_percent(list(enumerate(zip(all_anatomies, all_rois)))):\n",
    "    if i == align_to:\n",
    "        transforms.append(ants.new_ants_transform()) # unity transform\n",
    "    else:\n",
    "        in_fn = tmpdir + 'in_tmp_%02d.nrrd' % i\n",
    "        io.save(in_fn, anatomy, spacing=io.SPACING_JAKOB)\n",
    "        \n",
    "        args = ants_cmd.Arguments(in_fn, ref_fn, params, output_folder=tmpdir)\n",
    "        res = ants_cmd.run_antsreg(args)\n",
    "        t_fn = res.get_generic_affine()\n",
    "        transforms.append(ants.read_transform(t_fn))"
   ]
  },
  {
   "cell_type": "code",
   "execution_count": null,
   "metadata": {},
   "outputs": [],
   "source": [
    "zb_ref = '/Users/koesterlab/Registrations/Elavl3-H2BRFP.tif' # metadata!!!\n",
    "in_fn = tmpdir + 'in_tmp_%02d.nrrd' % align_to\n",
    "io.save(in_fn, img.our_view_to_zbrain_img(all_anatomies[align_to]), spacing=io.SPACING_JAKOB)\n",
    "params = ants_cmd.get_default_params()[:2]\n",
    "args = ants_cmd.Arguments(in_fn, zb_ref, params, output_folder=tmpdir)\n",
    "res = ants_cmd.run_antsreg(args)\n",
    "t_to_zb = ants.read_transform(res.get_generic_affine())"
   ]
  },
  {
   "cell_type": "code",
   "execution_count": null,
   "metadata": {},
   "outputs": [],
   "source": [
    "zb_ref_fn = '/Users/koesterlab/Registrations/Elavl3-H2BRFP.tif' # metadata!!!\n",
    "zb_ref = ants.image_read(zb_ref_fn)\n",
    "zb_ref.set_spacing(io.SPACING_ZBB)\n",
    "transforms = []\n",
    "for anatomy in prog_percent(all_anatomies):\n",
    "    our = regtools.to_ants(img.our_view_to_zbrain_img(anatomy))\n",
    "    our.set_spacing(io.SPACING_JAKOB)\n",
    "    res = ants.registration(zb_ref, our, type_of_transform='Affine')\n",
    "    transforms.append(ants.read_transform(res['fwdtransforms'][0]))"
   ]
  },
  {
   "cell_type": "code",
   "execution_count": null,
   "metadata": {},
   "outputs": [],
   "source": [
    "our_ref_warped = ants.apply_ants_transform_to_image(t_to_zb, our_ref, zb_ref)"
   ]
  },
  {
   "cell_type": "code",
   "execution_count": null,
   "metadata": {},
   "outputs": [],
   "source": [
    "@interact\n",
    "def browse(i:(0,137)):\n",
    "    plt.figure(figsize=(12,12))\n",
    "    plt.imshow(regtools.to_numpy(our_ref_warped)[i])"
   ]
  },
  {
   "cell_type": "code",
   "execution_count": null,
   "metadata": {},
   "outputs": [],
   "source": [
    "our_ref = regtools.to_ants(all_anatomies[align_to])\n",
    "our_ref.set_spacing(io.SPACING_JAKOB)\n",
    "def transform_xyz(t, roi, img_from, img_to):\n",
    "    phys = ants.transform_index_to_physical_point(img_from, np.round(roi).astype(np.int))\n",
    "    trans = ants.apply_ants_transform_to_point(t, phys)\n",
    "#    ind = ants.transform_physical_point_to_index(img_to, trans)\n",
    "    ind = np.array(trans)/img_to.spacing\n",
    "    \"\"\"\n",
    "    print('Point: %s' % np.array(p))\n",
    "    print('Phys:  %s' % phys)\n",
    "    print('Trans: %s' % trans)\n",
    "    print('Ind:   %s' % ind)\n",
    "    \"\"\"\n",
    "    return ind"
   ]
  },
  {
   "cell_type": "code",
   "execution_count": null,
   "metadata": {},
   "outputs": [],
   "source": [
    "def transform_all_xyzs(transforms, all_xyzs, img_from, img_to):\n",
    "    return [np.array([transform_xyz(t, roi, img_from, img_to) for roi in rois]) for t, rois in zip(transforms, all_xyzs)]"
   ]
  },
  {
   "cell_type": "code",
   "execution_count": null,
   "metadata": {},
   "outputs": [],
   "source": []
  },
  {
   "cell_type": "code",
   "execution_count": null,
   "metadata": {},
   "outputs": [],
   "source": [
    "io.SPACING_ZBB"
   ]
  },
  {
   "cell_type": "code",
   "execution_count": null,
   "metadata": {},
   "outputs": [],
   "source": [
    "all_xyzs = [rois[:,:3] for rois in all_rois]\n",
    "shape = (21, 1024, 1024)\n",
    "\n",
    "print('pretransform')\n",
    "# make the pretransform to zb (flip z and rotate 90°)\n",
    "rois_transformed = [[img.our_view_to_zbrain_point(xyz, shape) for xyz in xyzs] for xyzs in prog_percent(all_xyzs)]\n",
    "\n",
    "print('All to reference')\n",
    "#rois_transformed = transform_all_xyzs([t.invert() for t in transforms], prog_percent(rois_transformed), our_ref, zb_ref)"
   ]
  },
  {
   "cell_type": "code",
   "execution_count": null,
   "metadata": {},
   "outputs": [],
   "source": [
    "ants.transform_index_to_physical_point(image, (2, 3, 1))"
   ]
  },
  {
   "cell_type": "code",
   "execution_count": null,
   "metadata": {},
   "outputs": [],
   "source": [
    "rois_concat.shape"
   ]
  },
  {
   "cell_type": "code",
   "execution_count": null,
   "metadata": {},
   "outputs": [],
   "source": [
    "def add_r(rois, r=5):\n",
    "    return np.array([(x, y, z, r) for x, y, z in rois])"
   ]
  },
  {
   "cell_type": "code",
   "execution_count": null,
   "metadata": {},
   "outputs": [],
   "source": [
    "zb_avg = np.average(regtools.to_numpy(zb_ref), axis=0)\n",
    "zb_avg = zb_avg.reshape((1,) + zb_avg.shape)"
   ]
  },
  {
   "cell_type": "code",
   "execution_count": null,
   "metadata": {},
   "outputs": [],
   "source": [
    "#roi_map = segmentation.draw_rois(add_r(rois_transformed[1]), regtools.to_numpy(zb_image))\n",
    "def color_func(i):\n",
    "    F = all_traces[0][i][0]\n",
    "    m = 1000\n",
    "    return tuple((np.array((255, 255, 255)) * np.min((F, m))/m).astype(np.int))\n",
    "rois_concat = np.concatenate(rois_transformed[:1])\n",
    "rois_to_draw = all_rois[0]\n",
    "roi_map = segmentation.draw_rois(all_rois[0], np.zeros_like(all_anatomies[0]), fixed_z=0, color_func=color_func)"
   ]
  },
  {
   "cell_type": "code",
   "execution_count": null,
   "metadata": {},
   "outputs": [],
   "source": [
    "plt.figure(figsize=(12, 12))\n",
    "plt.imshow(roi_map[0])"
   ]
  },
  {
   "cell_type": "code",
   "execution_count": null,
   "metadata": {},
   "outputs": [],
   "source": [
    "@interact\n",
    "def browse(i:(0,137)):\n",
    "    plt.figure(figsize=(12, 12))\n",
    "    plt.imshow(roi_map[i])"
   ]
  },
  {
   "cell_type": "code",
   "execution_count": null,
   "metadata": {},
   "outputs": [],
   "source": [
    "filtered = segmentation.filter_rois_shape(rois_concat, np.flip(np.array(regtools.to_numpy(zb_ref).shape)))"
   ]
  },
  {
   "cell_type": "code",
   "execution_count": null,
   "metadata": {},
   "outputs": [],
   "source": [
    "zb_ref_shape = tuple(np.array(regtools.to_numpy(zb_ref).shape)[1:])\n",
    "zb_ref_shape"
   ]
  },
  {
   "cell_type": "code",
   "execution_count": null,
   "metadata": {},
   "outputs": [],
   "source": [
    "rois_filtered = add_r(rois_concat[filtered].astype(np.int))\n",
    "traces_filtered = np.concatenate([traces[:,:1800] for traces in all_traces[:1]])[filtered]"
   ]
  },
  {
   "cell_type": "code",
   "execution_count": null,
   "metadata": {},
   "outputs": [],
   "source": [
    "np.flip(rois_filtered[:,:2], axis=1)"
   ]
  },
  {
   "cell_type": "code",
   "execution_count": null,
   "metadata": {},
   "outputs": [],
   "source": [
    "rendering = reload(rendering)\n",
    "pix_map = rendering.pixel_map(rois_filtered[:,:2], zb_ref_shape)"
   ]
  },
  {
   "cell_type": "code",
   "execution_count": null,
   "metadata": {},
   "outputs": [],
   "source": [
    "pix_map_filtered = rendering.pix_map_filter(pix_map, 0)"
   ]
  },
  {
   "cell_type": "code",
   "execution_count": null,
   "metadata": {},
   "outputs": [],
   "source": [
    "involved, dists, pixel_list = pix_map\n",
    "count_map = np.zeros(shape=involved.shape)\n",
    "for p in pixel_list:\n",
    "    count_map[p] = len(involved[p])\n",
    "\n",
    "plt.figure(figsize=(12,10))\n",
    "plt.imshow(count_map)\n",
    "plt.colorbar()"
   ]
  },
  {
   "cell_type": "code",
   "execution_count": null,
   "metadata": {},
   "outputs": [],
   "source": [
    "np.max([np.max(dists[p]) for p in np.ndindex(dists.shape)])"
   ]
  },
  {
   "cell_type": "code",
   "execution_count": null,
   "metadata": {},
   "outputs": [],
   "source": [
    "plt.figure(figsize=(12,10))\n",
    "plt.imshow(np.array(rendered_frames[0]), cmap=plt.get_cmap('Greys_r'))"
   ]
  },
  {
   "cell_type": "code",
   "execution_count": null,
   "metadata": {},
   "outputs": [],
   "source": [
    "rendering = reload(rendering)\n",
    "render_ts = [0]\n",
    "rendered_frames = rendering.orthogonal_averaged(pix_map, traces_filtered, \n",
    "                                               rendering.green_magenta_dFF_func,\n",
    "                                               render_ts, zb_ref_shape)\n",
    "plt.figure(figsize=(12,10))\n",
    "plt.imshow(np.array(rendered_frames[0]), cmap=plt.get_cmap('Greys_r'))"
   ]
  },
  {
   "cell_type": "code",
   "execution_count": null,
   "metadata": {},
   "outputs": [],
   "source": [
    "io.save('/Users/koesterlab/fish20_zb.h5', rendered_frames, io.SPACING_ZBB)"
   ]
  },
  {
   "cell_type": "code",
   "execution_count": null,
   "metadata": {},
   "outputs": [],
   "source": [
    "zb_view_ants = regtools.to_ants(zb_view)\n",
    "zb_view_ants.set_spacing(io.SPACING_JAKOB)\n",
    "zb_image.set_spacing(io.SPACING_ZBB)\n",
    "transf_img = ants.apply_ants_transform_to_image(t_to_zb, zb_view_ants, zb_image)\n",
    "to_show = regtools.to_numpy(transf_img)[60]\n",
    "plt.figure(figsize=(12, 12))\n",
    "plt.imshow(to_show)"
   ]
  },
  {
   "cell_type": "code",
   "execution_count": null,
   "metadata": {},
   "outputs": [],
   "source": [
    "np.argmax(regtools.to_numpy(transf_img), axis=0)"
   ]
  },
  {
   "cell_type": "code",
   "execution_count": null,
   "metadata": {},
   "outputs": [],
   "source": [
    "cmap = plt.get_cmap('hsv', len(transformed_rois))\n",
    "colors = [(np.array(cmap(i))*255)[:3].astype(np.uint8) for i in range(len(transformed_rois))]"
   ]
  },
  {
   "cell_type": "code",
   "execution_count": null,
   "metadata": {},
   "outputs": [],
   "source": [
    "transformed_rois_bak = transformed_rois.copy()"
   ]
  },
  {
   "cell_type": "code",
   "execution_count": null,
   "metadata": {},
   "outputs": [],
   "source": [
    "transformed_rois = [rois if rois.shape[1]==3 else rois[:,:3].astype(np.int) for rois in transformed_rois_bak]"
   ]
  },
  {
   "cell_type": "code",
   "execution_count": null,
   "metadata": {},
   "outputs": [],
   "source": [
    "def argfilter_rois(rois, shape=(1024, 1024, 21)):\n",
    "    filtered = []\n",
    "    for roi_id, roi in enumerate(rois):\n",
    "        if np.any(roi < 0):\n",
    "            continue\n",
    "        if np.any(roi >= shape):\n",
    "            continue\n",
    "        filtered.append(roi_id)\n",
    "    return np.array(filtered)\n",
    "\n",
    "rois_ids = np.array(list(map(argfilter_rois, transformed_rois)))"
   ]
  },
  {
   "cell_type": "code",
   "execution_count": null,
   "metadata": {},
   "outputs": [],
   "source": [
    "filtered_rois = [t[ids] for t, ids in zip(transformed_rois, rois_ids)]\n",
    "filtered_traces = [t[ids] for t, ids in zip(all_traces, rois_ids)]"
   ]
  },
  {
   "cell_type": "code",
   "execution_count": null,
   "metadata": {
    "scrolled": false
   },
   "outputs": [],
   "source": [
    "def render_rois(ndas, colors, matching=None, planes=[10], shape=(1024, 1024)):\n",
    "    image = np.zeros(shape + (3,), dtype=np.uint8)\n",
    "    for nda, color in zip(ndas, colors):\n",
    "        for roi in nda:\n",
    "            x, y, z = roi\n",
    "            if z in planes:\n",
    "                image[y, x] += color\n",
    "    \n",
    "    if matching:\n",
    "        pass\n",
    "    \n",
    "    return image\n",
    "\n",
    "for p in np.arange(1, 19):\n",
    "    image = render_rois(filtered_rois, colors, planes=[p])\n",
    "    plt.figure(figsize=(12, 12))\n",
    "    plt.imshow(image)"
   ]
  },
  {
   "cell_type": "code",
   "execution_count": null,
   "metadata": {},
   "outputs": [],
   "source": [
    "rendering = reload(rendering)\n",
    "\n",
    "render_ts = np.arange(0, 1800, 1)\n",
    "render_rois = np.array(all_rois)\n",
    "render_rois = render_rois.reshape(-1, render_rois.shape[-1])\n",
    "render_traces = np.array(all_traces)\n",
    "render_traces = render_traces.reshape(-1, 1)\n",
    "render_traces = signal.correct_bleaching(render_ts, render_traces, -0.000065)\n",
    "render_dFF = signal.dFF(render_traces, np.arange(110, 160))"
   ]
  },
  {
   "cell_type": "code",
   "execution_count": null,
   "metadata": {},
   "outputs": [],
   "source": [
    "render_dFF.shape, render_rois.shape"
   ]
  },
  {
   "cell_type": "code",
   "execution_count": null,
   "metadata": {},
   "outputs": [],
   "source": [
    "def color_func(dFF):\n",
    "    final_a = (0, 255, 0)\n",
    "    final_b = (255, 0, 255)\n",
    "    alpha = 1\n",
    "    max_dFF = 1\n",
    "    c = np.array(final_b if dFF > 0 else final_a, dtype=np.float32)\n",
    "    dFF = min(abs(dFF), max_dFF)/max_dFF\n",
    "    return np.array(c*alpha*dFF, dtype=np.uint8)\n",
    "\n",
    "activity = rendering.orthogonal(render_rois, render_dFF, color_func, render_ts, (1024, 1024))\n",
    "plt.figure(figsize=(12,10))\n",
    "plt.imshow(np.array(activity[0], dtype=np.uint8))"
   ]
  },
  {
   "cell_type": "code",
   "execution_count": null,
   "metadata": {},
   "outputs": [],
   "source": [
    "def initial_solution(ndas):\n",
    "    dim = max(map(np.alen, ndas))\n",
    "    num = np.alen(ndas)\n",
    "    sol = np.full((dim, num), -1, dtype=np.int32)\n",
    "    for i, rois in enumerate(ndas):\n",
    "        \n",
    "    return sol"
   ]
  },
  {
   "cell_type": "code",
   "execution_count": null,
   "metadata": {},
   "outputs": [],
   "source": [
    "initial_solution([a, b])"
   ]
  },
  {
   "cell_type": "code",
   "execution_count": null,
   "metadata": {},
   "outputs": [],
   "source": [
    "args = ants_zff.AntsArguments(input_file=std_dev_b, reference=std_dev_a, params=ants_zff.get_default_params()[:2])\n",
    "args.output_folder = os.path.join('/Users/koesterlab/ants_tmp', args.output_folder)\n",
    "res = ants_zff.run_antsreg(args)"
   ]
  }
 ],
 "metadata": {
  "kernelspec": {
   "display_name": "Python 3",
   "language": "python",
   "name": "python3"
  },
  "language_info": {
   "codemirror_mode": {
    "name": "ipython",
    "version": 3
   },
   "file_extension": ".py",
   "mimetype": "text/x-python",
   "name": "python",
   "nbconvert_exporter": "python",
   "pygments_lexer": "ipython3",
   "version": "3.6.5"
  }
 },
 "nbformat": 4,
 "nbformat_minor": 2
}
