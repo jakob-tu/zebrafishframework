{
 "cells": [
  {
   "cell_type": "code",
   "execution_count": null,
   "metadata": {},
   "outputs": [],
   "source": [
    "import ants\n",
    "from importlib import reload\n",
    "import matplotlib.pyplot as plt\n",
    "import numpy as np\n",
    "import os.path\n",
    "import pickle\n",
    "from skimage.io import imread\n",
    "\n",
    "from zebrafishframework import ants_cmd\n",
    "from zebrafishframework import io\n",
    "from zebrafishframework import regtools\n",
    "\n",
    "regtools = reload(regtools)"
   ]
  },
  {
   "cell_type": "code",
   "execution_count": null,
   "metadata": {},
   "outputs": [],
   "source": [
    "rois_a = pickle.load(open('/Users/koesterlab/registered/control/fish21_6dpf_medium_rois.pickle', 'rb'))\n",
    "rois_b = pickle.load(open('/Users/koesterlab/registered/control/fish39_6dpf_medium_rois.pickle', 'rb'))\n",
    "\n",
    "std_dev_a = '/Users/koesterlab/registered/control/fish21_6dpf_medium_std_div.tif'\n",
    "std_dev_b = '/Users/koesterlab/registered/control/fish39_6dpf_medium_std_div.tif'"
   ]
  },
  {
   "cell_type": "code",
   "execution_count": null,
   "metadata": {},
   "outputs": [],
   "source": [
    "def to_nda(rois):\n",
    "    # FIXME!!!\n",
    "    return np.array([[v['y'], v['x'], v['z']] for v in rois])\n",
    "rois_list = list(map(to_nda, [rois_a, rois_b]))\n",
    "std_dev_list = [ants.image_read(fn) for fn in [std_dev_a, std_dev_b]]\n",
    "\n",
    "def filt(p):\n",
    "    return p[1] < 1000\n",
    "\n",
    "rois_list = [np.array(list(filter(filt, l))) for l in rois_list]"
   ]
  },
  {
   "cell_type": "code",
   "execution_count": null,
   "metadata": {},
   "outputs": [],
   "source": [
    "for img in std_dev_list:\n",
    "    plt.figure(figsize=(12,12))\n",
    "    plt.imshow(img.numpy()[:,:,1].swapaxes(0, 1))"
   ]
  },
  {
   "cell_type": "code",
   "execution_count": null,
   "metadata": {},
   "outputs": [],
   "source": [
    "from skimage.draw import circle\n",
    "\n",
    "def make_image(nda, radius=20, shape=(21, 1024, 1024)):\n",
    "    img = np.zeros(shape, np.uint8)\n",
    "    for p in nda:\n",
    "        x, y, z = p\n",
    "        c = circle(y, x, radius, shape[1:])\n",
    "        img[z][c] = 255\n",
    "    return img\n",
    "\n",
    "def to_ants(nda):\n",
    "    return ants.from_numpy(nda.swapaxes(0, 2))\n",
    "\n",
    "cell_patterns = list(map(lambda e: to_ants(make_image(e)), rois_list))\n",
    "\n",
    "for i, cp in enumerate(cell_patterns):\n",
    "    ants.image_write(cp, '/Users/koesterlab/bla/cell_patterns_%02d.nrrd' % i)\n",
    "    plt.figure(figsize=(12, 12))\n",
    "    plt.imshow(cell_patterns[0][:,:,10].swapaxes(0, 1))\n"
   ]
  },
  {
   "cell_type": "code",
   "execution_count": null,
   "metadata": {},
   "outputs": [],
   "source": [
    "\"\"\"\n",
    "res = ants.registration(cell_patterns[0], \n",
    "                        cell_patterns[1], \n",
    "                        type_of_transform='Affine',\n",
    "                        verbose=True)\n",
    "warped = res['warpedmovout'].swapaxes(0, 2)\n",
    "\"\"\"\n",
    "warped, transforms, zshift = regtools.planewise_affine(cell_patterns[0], cell_patterns[1], True)\n",
    "\n",
    "plt.figure(figsize=(12, 12))\n",
    "plt.imshow(cell_patterns[0][:,:,10].swapaxes(0, 1))\n",
    "plt.figure(figsize=(12, 12))\n",
    "plt.imshow(warped[10])"
   ]
  },
  {
   "cell_type": "code",
   "execution_count": null,
   "metadata": {},
   "outputs": [],
   "source": [
    "\"\"\"\n",
    "t = ants.read_transform(res['fwdtransforms'][0])\n",
    "def apply(p):\n",
    "    img = cell_patterns[1]\n",
    "    phys = ants.transform_index_to_physical_point(img, p)\n",
    "    trans = np.array(list(ants.apply_ants_transform_to_point(t, phys)), dtype=np.int32)\n",
    "    back = ants.transform_physical_point_to_index(img, trans)\n",
    "    return np.array(back, dtype=np.int32)\n",
    "transformed_rois = np.array(list(map(apply, rois_list[1])))\n",
    "\"\"\"\n"
   ]
  },
  {
   "cell_type": "code",
   "execution_count": null,
   "metadata": {},
   "outputs": [],
   "source": [
    "transformed_rois = regtools.transform_planewise_points(rois_list[1], transforms, zshift)"
   ]
  },
  {
   "cell_type": "code",
   "execution_count": null,
   "metadata": {},
   "outputs": [],
   "source": []
  },
  {
   "cell_type": "code",
   "execution_count": null,
   "metadata": {},
   "outputs": [],
   "source": [
    "def filter_shape(p, shape):\n",
    "    if np.any(p < 0):\n",
    "        return False\n",
    "    if np.any(p > shape):\n",
    "        return False\n",
    "    return True\n",
    "transformed_rois = np.array(list(filter(lambda p: filter_shape(p, (1024, 1024, 21)), transformed_rois)))"
   ]
  },
  {
   "cell_type": "code",
   "execution_count": null,
   "metadata": {},
   "outputs": [],
   "source": [
    "args = ants_zff.AntsArguments(input_file=std_dev_b, reference=std_dev_a, params=ants_zff.get_default_params()[:2])\n",
    "args.output_folder = os.path.join('/Users/koesterlab/ants_tmp', args.output_folder)\n",
    "res = ants_zff.run_antsreg(args)"
   ]
  },
  {
   "cell_type": "code",
   "execution_count": null,
   "metadata": {},
   "outputs": [],
   "source": [
    "def render_rois(ndas, colors, matching=None, plane=10, shape=(1024, 1024)):\n",
    "    image = np.zeros(shape + (3,), dtype=np.uint8)\n",
    "    for nda, color in zip(ndas, colors):\n",
    "        color = np.array(color, dtype=np.uint8)\n",
    "        for roi in nda:\n",
    "            x, y, z = roi\n",
    "            if z == plane:\n",
    "                image[y, x] += color\n",
    "    \n",
    "    if matching:\n",
    "        pass\n",
    "    \n",
    "    return image\n",
    "\n",
    "image = render_rois([rois_list[0], transformed_rois], [(0, 255, 0), (255, 0, 255)], plane=16)\n",
    "plt.figure(figsize=(12, 12))\n",
    "plt.imshow(image)"
   ]
  },
  {
   "cell_type": "code",
   "execution_count": null,
   "metadata": {},
   "outputs": [],
   "source": [
    "def initial_solution(ndas):\n",
    "    dim = max(map(np.alen, ndas))\n",
    "    num = np.alen(ndas)\n",
    "    sol = np.full((dim, num), -1, dtype=np.int32)\n",
    "    for i, rois in enumerate(ndas):\n",
    "        \n",
    "    return sol"
   ]
  },
  {
   "cell_type": "code",
   "execution_count": null,
   "metadata": {},
   "outputs": [],
   "source": [
    "initial_solution([a, b])"
   ]
  },
  {
   "cell_type": "code",
   "execution_count": null,
   "metadata": {},
   "outputs": [],
   "source": []
  }
 ],
 "metadata": {
  "kernelspec": {
   "display_name": "Python 3",
   "language": "python",
   "name": "python3"
  },
  "language_info": {
   "codemirror_mode": {
    "name": "ipython",
    "version": 3
   },
   "file_extension": ".py",
   "mimetype": "text/x-python",
   "name": "python",
   "nbconvert_exporter": "python",
   "pygments_lexer": "ipython3",
   "version": "3.6.5"
  }
 },
 "nbformat": 4,
 "nbformat_minor": 2
}
