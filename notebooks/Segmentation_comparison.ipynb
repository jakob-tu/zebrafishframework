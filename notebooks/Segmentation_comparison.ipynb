{
 "cells": [
  {
   "cell_type": "code",
   "execution_count": null,
   "metadata": {},
   "outputs": [],
   "source": [
    "from glob import glob\n",
    "from importlib import reload\n",
    "from ipywidgets import interact\n",
    "import matplotlib.pyplot as plt\n",
    "import numpy as np\n",
    "from pyprind import prog_percent\n",
    "from zebrafishframework import io\n",
    "from zebrafishframework import segmentation\n",
    "\n",
    "segmentation = reload(segmentation)"
   ]
  },
  {
   "cell_type": "code",
   "execution_count": null,
   "metadata": {},
   "outputs": [],
   "source": [
    "std_dev_fns = glob('/Users/koesterlab/segmented/control/*_std_dev.h5') + glob('/Users/koesterlab/segmented/stimulus/*_std_dev.h5')"
   ]
  },
  {
   "cell_type": "code",
   "execution_count": null,
   "metadata": {},
   "outputs": [],
   "source": [
    "for i, fn in enumerate(std_dev_fns):\n",
    "    print('%02d: %s' % (i, fn))"
   ]
  },
  {
   "cell_type": "code",
   "execution_count": null,
   "metadata": {},
   "outputs": [],
   "source": [
    "std_devs = [io.load(fn)[0] for fn in prog_percent(std_dev_fns)]"
   ]
  },
  {
   "cell_type": "code",
   "execution_count": null,
   "metadata": {},
   "outputs": [],
   "source": [
    "rois_blob = []\n",
    "rois_template = []\n",
    "template = segmentation.load_template()\n",
    "\n",
    "for std_dev in prog_percent(std_devs):\n",
    "    rois_blob.append(segmentation.find_rois_blob(std_dev))\n",
    "    rois_template.append(segmentation.find_rois_template(std_dev, template=template))"
   ]
  },
  {
   "cell_type": "code",
   "execution_count": null,
   "metadata": {},
   "outputs": [],
   "source": [
    "np.alen(rois_template[0]), np.alen(rois_blob[0])"
   ]
  },
  {
   "cell_type": "code",
   "execution_count": null,
   "metadata": {},
   "outputs": [],
   "source": [
    "i = 0\n",
    "rois = np.concatenate((rois_template[i], rois_blob[i]))\n",
    "anatomy = std_devs[i]\n",
    "print(std_dev_fns[i])\n",
    "print('Max value in std: %f' % np.max(anatomy))\n",
    "\n",
    "def color_func(ind):\n",
    "    return (255, 0, 255) if ind < np.alen(rois_template[i]) else (0, 255, 0)\n",
    "\n",
    "roi_map = segmentation.draw_rois(rois, anatomy, vmax=300, color_func=color_func)\n",
    "@interact\n",
    "def browse(i:(0,20)):\n",
    "    plt.figure(figsize=(15,15))\n",
    "    plt.imshow(roi_map[i])"
   ]
  },
  {
   "cell_type": "code",
   "execution_count": null,
   "metadata": {},
   "outputs": [],
   "source": [
    "io.save('/Users/koesterlab/roi_map.h5', roi_map, spacing=io.SPACING_JAKOB)"
   ]
  },
  {
   "cell_type": "code",
   "execution_count": null,
   "metadata": {},
   "outputs": [],
   "source": [
    "segmentation.find_rois_blob?"
   ]
  },
  {
   "cell_type": "code",
   "execution_count": null,
   "metadata": {},
   "outputs": [],
   "source": []
  }
 ],
 "metadata": {
  "kernelspec": {
   "display_name": "Python 3",
   "language": "python",
   "name": "python3"
  },
  "language_info": {
   "codemirror_mode": {
    "name": "ipython",
    "version": 3
   },
   "file_extension": ".py",
   "mimetype": "text/x-python",
   "name": "python",
   "nbconvert_exporter": "python",
   "pygments_lexer": "ipython3",
   "version": "3.6.5"
  }
 },
 "nbformat": 4,
 "nbformat_minor": 2
}
