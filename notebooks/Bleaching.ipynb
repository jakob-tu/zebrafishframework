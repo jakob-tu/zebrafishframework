{
 "cells": [
  {
   "cell_type": "code",
   "execution_count": null,
   "metadata": {},
   "outputs": [],
   "source": [
    "from glob import glob\n",
    "import matplotlib.pyplot as plt\n",
    "import numpy as np\n",
    "import re\n",
    "\n",
    "from zebrafishframework import signal"
   ]
  },
  {
   "cell_type": "code",
   "execution_count": null,
   "metadata": {},
   "outputs": [],
   "source": [
    "!ls /Users/koesterlab/segmented/control/"
   ]
  },
  {
   "cell_type": "code",
   "execution_count": null,
   "metadata": {},
   "outputs": [],
   "source": [
    "base = '/Users/koesterlab/segmented/control/'\n",
    "base_fn = base + 'fish%02d_6dpf_medium'\n",
    "r = re.compile('.*fish(?P<num>\\d+).*')\n",
    "fish_ids = []\n",
    "for f in glob(base + '*.h5'):\n",
    "    num = int(r.match(f).group('num'))\n",
    "    fish_ids.append(num)\n",
    "fish_ids\n",
    "\n",
    "all_rois = [np.load((base_fn + '_rois.npy') % i) for i in fish_ids]\n",
    "all_traces = [np.load((base_fn + '_traces.npy') % i) for i in fish_ids]"
   ]
  },
  {
   "cell_type": "code",
   "execution_count": null,
   "metadata": {},
   "outputs": [],
   "source": [
    "ts = np.arange(1800)\n",
    "plt.figure(figsize=(12, 8))\n",
    "\n",
    "start = 400\n",
    "\n",
    "all_mean = np.mean([np.mean(traces, axis=0) for traces in all_traces], axis=0)\n",
    "all_constant = signal.calc_bleaching_constant(ts[start:], all_mean[start:])\n",
    "plt.plot(ts, all_mean, label='all_mean, %f' % all_constant)\n",
    "for traces, i in zip(all_traces, fish_ids):\n",
    "    mean = np.mean(traces, axis=0)\n",
    "    constants.append(signal.calc_bleaching_constant(ts[start:], mean[start:]))\n",
    "    plt.plot(ts, mean, label='%02d, %f' % (i, constants[-1]))\n",
    "\n",
    "plt.legend()\n",
    "\n",
    "np.mean(constants)"
   ]
  },
  {
   "cell_type": "code",
   "execution_count": null,
   "metadata": {},
   "outputs": [],
   "source": [
    "np.exp(all_constant*1400)"
   ]
  },
  {
   "cell_type": "code",
   "execution_count": null,
   "metadata": {},
   "outputs": [],
   "source": [
    "all_mean[1799]/all_mean[400]"
   ]
  },
  {
   "cell_type": "code",
   "execution_count": null,
   "metadata": {},
   "outputs": [],
   "source": [
    "np.alen(_)"
   ]
  },
  {
   "cell_type": "code",
   "execution_count": null,
   "metadata": {},
   "outputs": [],
   "source": []
  }
 ],
 "metadata": {
  "kernelspec": {
   "display_name": "Python 3",
   "language": "python",
   "name": "python3"
  },
  "language_info": {
   "codemirror_mode": {
    "name": "ipython",
    "version": 3
   },
   "file_extension": ".py",
   "mimetype": "text/x-python",
   "name": "python",
   "nbconvert_exporter": "python",
   "pygments_lexer": "ipython3",
   "version": "3.6.5"
  }
 },
 "nbformat": 4,
 "nbformat_minor": 2
}
