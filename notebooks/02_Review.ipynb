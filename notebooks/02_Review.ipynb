{
 "cells": [
  {
   "cell_type": "code",
   "execution_count": null,
   "metadata": {},
   "outputs": [],
   "source": [
    "import deepdish as dd\n",
    "from ipywidgets import interact\n",
    "import matplotlib.pyplot as plt\n",
    "import matplotlib.patches\n",
    "import numpy as np\n",
    "from pyprind import prog_percent\n",
    "import random\n",
    "from skimage.io import imread, imsave\n",
    "from zebrafishframework import io\n",
    "from zebrafishframework import rendering\n",
    "from zebrafishframework import segmentation\n",
    "from zebrafishframework import signal\n",
    "\n",
    "from importlib import reload"
   ]
  },
  {
   "cell_type": "code",
   "execution_count": null,
   "metadata": {},
   "outputs": [],
   "source": [
    "rendering = reload(rendering)\n",
    "segmentation = reload(segmentation)"
   ]
  },
  {
   "cell_type": "code",
   "execution_count": null,
   "metadata": {},
   "outputs": [],
   "source": [
    "!ls /Users/koesterlab/segmented/control/*.h5"
   ]
  },
  {
   "cell_type": "code",
   "execution_count": null,
   "metadata": {},
   "outputs": [],
   "source": [
    "# control\n",
    "fish_ids = [2, 12, 14, 17, 18, 19, 20, 21, 22, 23, 32, 39]\n",
    "\n",
    "# stimulus\n",
    "#fish_ids = [4, ]\n",
    "\n",
    "all_rois = dict()\n",
    "all_traces = dict()\n",
    "all_anatomies = dict()\n",
    "\n",
    "for fish in fish_ids:\n",
    "    base = '/Users/koesterlab/segmented/control/fish%02d_6dpf_medium' % fish\n",
    "    print(base)\n",
    "    #base = '/Volumes/User-Data/Jakob/positive-negative/control/6days/LIF_files/segmented/fish%02d_6dpf_medium' % fish\n",
    "    roi_file = base + '_rois.npy'\n",
    "    traces_file = base + '_traces.npy'\n",
    "    rendering_file = base + '_rendering.mp4'\n",
    "    anatomy_file = base + '_std_dev.h5'\n",
    "\n",
    "#    rois = np.asarray([(b, a, c, d) for a, b, c, d in np.load(roi_file)]) # fixme!!!!!\n",
    "    rois = np.load(roi_file)\n",
    "    traces_raw = np.load(traces_file)\n",
    "    anatomy = io.load(anatomy_file)[0]\n",
    "    mask = np.ones(anatomy.shape) # no mask\n",
    "    \n",
    "    all_traces[fish] = traces_raw\n",
    "    all_rois[fish] = rois\n",
    "    all_anatomies[fish] = anatomy"
   ]
  },
  {
   "cell_type": "code",
   "execution_count": null,
   "metadata": {},
   "outputs": [],
   "source": [
    "num_rois = [np.alen(rois) for rois in all_rois.values()]\n",
    "for f in fish_ids:\n",
    "    print('ID %02d: #ROIs=%d length=%d' % (f, np.alen(all_rois[f]), all_traces[f].shape[1]))\n",
    "    \n",
    "plt.xlabel('Fish ID')\n",
    "plt.ylabel('# ROIs')\n",
    "plt.scatter(fish_ids, num_rois)"
   ]
  },
  {
   "cell_type": "code",
   "execution_count": null,
   "metadata": {},
   "outputs": [],
   "source": [
    "plt.figure(figsize=(12,8))\n",
    "all_mean = np.array([np.mean(traces, axis=0) for traces in all_traces.values()])\n",
    "for mean in all_mean:\n",
    "    plt.plot(np.arange(np.alen(mean)), mean)"
   ]
  },
  {
   "cell_type": "code",
   "execution_count": null,
   "metadata": {},
   "outputs": [],
   "source": [
    "fish = 2\n",
    "rois = all_rois[fish]\n",
    "traces_raw = all_traces[fish]\n",
    "anatomy = all_anatomies[fish]\n",
    "ts = np.arange(traces_raw.shape[1])"
   ]
  },
  {
   "cell_type": "code",
   "execution_count": null,
   "metadata": {},
   "outputs": [],
   "source": [
    "num_rois = [len(list(filter(lambda r: r[2] == z, rois))) for z in range(21)]\n",
    "plt.xticks(np.arange(21))\n",
    "plt.xlabel('Plane')\n",
    "plt.ylabel('# ROIs')\n",
    "plt.bar(np.arange(21), num_rois)\n",
    "print('Total: %d' % sum(num_rois))"
   ]
  },
  {
   "cell_type": "code",
   "execution_count": null,
   "metadata": {},
   "outputs": [],
   "source": [
    "@interact\n",
    "def browse(i:(0,20)):\n",
    "    plt.figure(figsize=(12,12))\n",
    "    plt.imshow(anatomy[i])"
   ]
  },
  {
   "cell_type": "code",
   "execution_count": null,
   "metadata": {},
   "outputs": [],
   "source": [
    "roi_map = segmentation.draw_rois(rois, anatomy, vmax=200)\n",
    "io.save('/Users/koesterlab/roi_map.h5', roi_map, io.SPACING_JAKOB)\n",
    "\n",
    "@interact\n",
    "def browse(i:(0,20)):\n",
    "    plt.figure(figsize=(12,12))\n",
    "    plt.imshow(roi_map[i])"
   ]
  },
  {
   "cell_type": "code",
   "execution_count": null,
   "metadata": {},
   "outputs": [],
   "source": [
    "traces = traces_raw.copy()\n",
    "traces = signal.correct_bleaching(ts, traces, -0.000065)\n",
    "\n",
    "F_max = np.percentile(traces, 99.9)\n",
    "print('F_max: %d' % F_max)\n",
    "\n",
    "fig = plt.figure(figsize=(12, 8))\n",
    "plt.imshow(traces[np.argsort(np.average(traces, axis=1))], vmin=0, vmax=F_max, aspect='auto')\n",
    "plt.xlabel('t')\n",
    "plt.ylabel('ROI ID')\n",
    "plt.colorbar()\n",
    "\n",
    "mean = np.mean(traces, axis=1)\n",
    "fig = plt.figure(figsize=(12, 6))\n",
    "plt.hist(mean, bins=100);\n",
    "plt.xlabel('average F')\n",
    "plt.ylabel('#ROIs')\n",
    "plt.title('F distribution (/w outliers)')\n",
    "\n",
    "points = traces.flatten()\n",
    "fig = plt.figure(figsize=(12, 6))\n",
    "plt.hist(points, bins=100);\n",
    "plt.yscale('log')\n",
    "plt.xlabel('F')\n",
    "plt.ylabel('#(data_points)')\n",
    "plt.title('value distribution')"
   ]
  },
  {
   "cell_type": "code",
   "execution_count": null,
   "metadata": {},
   "outputs": [],
   "source": [
    "traces = traces_raw.copy()\n",
    "lower_bound = 97\n",
    "\n",
    "# exclude rois with a too low mean value\n",
    "valid_mask = np.full(mean.shape, True)\n",
    "too_low = np.mean(traces, axis=1) < lower_bound\n",
    "valid_mask[too_low] = False\n",
    "print('Too low: %.1f%%' % (100*np.sum(too_low)/np.alen(mean)))\n",
    "traces = traces[valid_mask]"
   ]
  },
  {
   "cell_type": "code",
   "execution_count": null,
   "metadata": {},
   "outputs": [],
   "source": [
    "# time from where to sample pre F\n",
    "baseline = np.arange(110, 160)\n",
    "dFF = segmentation.dFF(traces, baseline)\n",
    "\n",
    "dFF_shuffled = dFF.copy()\n",
    "random.shuffle(dFF_shuffled)\n",
    "\n",
    "traces_high = traces[np.argsort(np.average(traces, axis=1))][50000:]\n",
    "traces_shuffled = traces_raw.copy()\n",
    "random.shuffle(traces_shuffled)\n",
    "\n",
    "num = min((1000, np.alen(dFF)))\n",
    "plt.figure(figsize=(12, 8))\n",
    "for trace in dFF_shuffled[:num]:\n",
    "    plt.xticks(np.arange(0, 1800, 100))\n",
    "    plt.plot(ts, trace, color='black', alpha=5/num)"
   ]
  },
  {
   "cell_type": "code",
   "execution_count": null,
   "metadata": {},
   "outputs": [],
   "source": [
    "roi_id = random.randrange(0, np.alen(traces_raw))\n",
    "roi_trace = traces_raw[roi_id]\n",
    "\n",
    "plt.figure(figsize=((8, 4)))\n",
    "plt.plot(ts, roi_trace)\n",
    "roi = rois[roi_id]\n",
    "\n",
    "def mk_bound(x, width, lower, upper):\n",
    "    return int(max((lower, x-width))), int(min((upper, x+width)))\n",
    "\n",
    "sel = [slice(0, 1800), slice(int(roi[2]), int(roi[2])+1)]\n",
    "sel.append(slice(*mk_bound(roi[1], 15, 0, 1024)))\n",
    "sel.append(slice(*mk_bound(roi[0], 15, 0, 1024)))\n",
    "aligned_fn = '/Users/koesterlab/registered/control/fish%02d_6dpf_medium_aligned.h5' % fish\n",
    "roi_stack = dd.io.load(aligned_fn, sel=tuple(sel)).squeeze()\n",
    "io.save('/Users/koesterlab/tmp/roi_%d.nrrd' % roi_id, roi_stack, io.SPACING_JAKOB)\n",
    "print(roi_id)"
   ]
  },
  {
   "cell_type": "code",
   "execution_count": null,
   "metadata": {},
   "outputs": [],
   "source": []
  },
  {
   "cell_type": "code",
   "execution_count": null,
   "metadata": {},
   "outputs": [],
   "source": []
  },
  {
   "cell_type": "code",
   "execution_count": null,
   "metadata": {},
   "outputs": [],
   "source": []
  },
  {
   "cell_type": "code",
   "execution_count": null,
   "metadata": {},
   "outputs": [],
   "source": []
  },
  {
   "cell_type": "code",
   "execution_count": null,
   "metadata": {},
   "outputs": [],
   "source": [
    "# correct bleaching\n",
    "time_constant = -0.000065\n",
    "factors = np.exp(-time_constant*ts)\n",
    "F = traces*factors\n",
    "\n",
    "plt.figure(figsize=(12, 8))\n",
    "plt.plot(ts, np.mean(traces, axis=0), label='mean F')\n",
    "plt.plot(ts, np.mean(F, axis=0), label='mean F (corrected)')\n",
    "plt.legend(loc=4);"
   ]
  },
  {
   "cell_type": "code",
   "execution_count": null,
   "metadata": {},
   "outputs": [],
   "source": [
    "F = traces\n",
    "mean_F = np.mean(F, axis=0)\n",
    "mean_trace = np.mean(filtered_dFF, axis=0)\n",
    "\n",
    "import scipy.stats\n",
    "(a_s, b_s, r, tt, stderr) = scipy.stats.linregress(ts[:], np.log(mean_F[:]))\n",
    "reg = np.exp(b_s+a_s*ts)\n",
    "\n",
    "plt.figure(figsize=(12,10))\n",
    "#plt.ylim((0, 350))\n",
    "#plt.plot(ts, mean_F, 'blue')\n",
    "#plt.plot(ts, reg, 'red')\n",
    "#plt.plot(ts, mean_trace-.1*std_trace, 'red', alpha=.5)\n",
    "#plt.plot(ts, mean_trace+.1*std_trace, 'red', alpha=.5)\n",
    "\n",
    "# from some controls\n",
    "a_s = -0.00015\n",
    "\n",
    "factors = np.exp(-a_s*ts)\n",
    "\n",
    "F_adjusted = F*factors\n",
    "dFF_adjusted = segmentation.dFF(F_adjusted, np.arange(100, 160))\n",
    "\n",
    "plt.plot(ts, np.mean(F, axis=0))"
   ]
  },
  {
   "cell_type": "code",
   "execution_count": null,
   "metadata": {},
   "outputs": [],
   "source": [
    "plt.figure(figsize=(12, 12))\n",
    "plt.imshow(anatomy[10], aspect='auto', cmap=plt.get_cmap('Greys_r'))"
   ]
  },
  {
   "cell_type": "code",
   "execution_count": null,
   "metadata": {},
   "outputs": [],
   "source": [
    "plt.figure(figsize=(12,10))\n",
    "#plt.ylim((-1, 2))\n",
    "plt.xlim((800, 1000))\n",
    "\n",
    "ts = np.arange(F.shape[1])\n",
    "choices = np.arange(np.alen(F))\n",
    "random.shuffle(choices)\n",
    "choices = choices[:100]\n",
    "\n",
    "chosen = F[choices]\n",
    "\n",
    "for trc in chosen:\n",
    "    plt.plot(ts, trc, color='red', alpha=.05)\n",
    "\"\"\"\n",
    "\n",
    "for filt in filtered:\n",
    "    plt.plot(ts, filt, color='black', alpha=.05)\n",
    "\n",
    "\"\"\""
   ]
  },
  {
   "cell_type": "markdown",
   "metadata": {},
   "source": [
    "Render traces"
   ]
  },
  {
   "cell_type": "code",
   "execution_count": null,
   "metadata": {},
   "outputs": [],
   "source": [
    "rendering = reload(rendering)\n",
    "\n",
    "render_ts = np.arange(0, 1800, 1)\n",
    "render_rois = np.array(all_rois)\n",
    "render_traces = np.array(all_traces)\n",
    "render_traces = signal.correct_bleaching(ts, render_traces, -0.000065)\n",
    "render_dFF = signal.dFF(render_traces, np.arange(110, 160))\n",
    "\n",
    "def color_func(dFF):\n",
    "    final_a = (0, 255, 0)\n",
    "    final_b = (255, 0, 255)\n",
    "    alpha = 1\n",
    "    max_dFF = 1\n",
    "    c = np.array(final_b if dFF > 0 else final_a, dtype=np.float32)\n",
    "    dFF = min(abs(dFF), max_dFF)/max_dFF\n",
    "    return np.array(c*alpha*dFF, dtype=np.uint8)\n",
    "\n",
    "activity = rendering.orthogonal(render_rois, render_dFF, color_func, render_ts, (1024, 1024))\n",
    "plt.figure(figsize=(12,10))\n",
    "plt.imshow(np.array(activity[0], dtype=np.uint8))\n"
   ]
  },
  {
   "cell_type": "code",
   "execution_count": null,
   "metadata": {},
   "outputs": [],
   "source": [
    "rendering.to_file(base + '_rendering.mp4', activity)"
   ]
  },
  {
   "cell_type": "code",
   "execution_count": null,
   "metadata": {},
   "outputs": [],
   "source": [
    "#plt.figure(figsize=(12,10))\n",
    "def visualize_clustering(dFF, clustering):\n",
    "    n = np.max(clustering) + 1\n",
    "    cmap = plt.cm.get_cmap('hsv', n+1)\n",
    "    color_func = lambda roi_id: np.array(cmap(km.labels_[roi_id])[:3])*255\n",
    "    \n",
    "    for cluster in range(n):\n",
    "        fig = plt.figure(figsize=(12,5))\n",
    "        cluster_traces = dFF[clustering == cluster]\n",
    "        img = plt.imshow(cluster_traces[np.argsort(np.average(cluster_traces, axis=1))],aspect='auto', vmax=2)\n",
    "        plt.title('cluster %d' % (cluster + 1), color=cmap(cluster))\n",
    "        plt.colorbar()\n",
    "    \n",
    "    t = np.arange(traces_dFF.shape[1])\n",
    "    \"\"\"\n",
    "    bins = np.arange(2, -1, .01)\n",
    "    im = np.zeros((bins.shape[0], t.shape[0], 3))\n",
    "    im.axes.yaxis.\n",
    "    \"\"\"\n",
    "\n",
    "    plt.figure(figsize=(12,10))\n",
    "    \n",
    "    plt.ylim((-1, 2))\n",
    "    for cluster in range(n):\n",
    "        cluster_traces = dFF[clustering == cluster]\n",
    "        random.shuffle(cluster_traces)\n",
    "        for trace in cluster_traces[:200]:\n",
    "            plt.plot(t, trace, color=cmap(cluster), alpha=.005)\n",
    "    \n",
    "    roi_map = segmentation.draw_rois(rois, anatomy_std, color_func=color_func)\n",
    "    @interact\n",
    "    def browse(i:(0,20)):\n",
    "        plt.figure(figsize=(12,12))\n",
    "        plt.imshow(roi_map[i])\n"
   ]
  },
  {
   "cell_type": "markdown",
   "metadata": {},
   "source": [
    "Sorted dFF"
   ]
  },
  {
   "cell_type": "code",
   "execution_count": null,
   "metadata": {},
   "outputs": [],
   "source": [
    "indices = np.argsort(np.average(filtered_dFF[:, 1600:], axis=1))\n",
    "\n",
    "def map_to_group(index, n):\n",
    "    percentile = index/n\n",
    "    if percentile < .2:\n",
    "        return 0\n",
    "    if percentile > .8:\n",
    "        return 2\n",
    "    return 1\n",
    "\n",
    "clustering = np.array(list(map(lambda e: map_to_group(e, filtered_dFF.shape[0]), np.argsort(indices))))\n",
    "\n",
    "\"\"\"\n",
    "plt.figure(figsize=(12,10))\n",
    "plt.imshow(traces_dFF[indices],aspect='auto', vmax=2)\n",
    "plt.colorbar()\n",
    "\"\"\"\n",
    "\n"
   ]
  },
  {
   "cell_type": "code",
   "execution_count": null,
   "metadata": {
    "scrolled": false
   },
   "outputs": [],
   "source": [
    "%%time\n",
    "visualize_clustering(filtered_dFF, clustering)"
   ]
  },
  {
   "cell_type": "markdown",
   "metadata": {},
   "source": [
    "Clustered traces"
   ]
  },
  {
   "cell_type": "code",
   "execution_count": null,
   "metadata": {},
   "outputs": [],
   "source": [
    "%%time\n",
    "n = 10\n",
    "from sklearn.cluster import KMeans\n",
    "km = KMeans(n)\n",
    "km.fit(filtered_dFF[:,1000:1600])"
   ]
  },
  {
   "cell_type": "code",
   "execution_count": null,
   "metadata": {
    "scrolled": false
   },
   "outputs": [],
   "source": [
    "%%time\n",
    "visualize_clustering(filtered_dFF, km.labels_)"
   ]
  },
  {
   "cell_type": "code",
   "execution_count": null,
   "metadata": {},
   "outputs": [],
   "source": [
    "roi_map = segmentation.draw_rois(rois, anatomy_std, color_func=color_func)\n",
    "@interact\n",
    "def browse(i:(0,20)):\n",
    "    plt.figure(figsize=(12,12))\n",
    "    plt.imshow(roi_map[i])"
   ]
  },
  {
   "cell_type": "code",
   "execution_count": null,
   "metadata": {},
   "outputs": [],
   "source": [
    "mean_before = traces_dFF[:,100:160].mean(1)\n",
    "mean_after  = traces_dFF[:,700:].mean(1)\n",
    "bins = np.arange(-1, 2, .02)\n",
    "before_hist = np.histogram(mean_before, bins=bins)\n",
    "after_hist = np.histogram(mean_after, bins=bins)"
   ]
  },
  {
   "cell_type": "code",
   "execution_count": null,
   "metadata": {},
   "outputs": [],
   "source": [
    "plt.figure(figsize=(12, 10))\n",
    "#plt.hist(mean_before, bins, alpha=.5, label='before')\n",
    "plt.hist(mean_after, bins, alpha=.5, label='after')\n",
    "plt.legend(loc=0)\n",
    "plt.show()"
   ]
  },
  {
   "cell_type": "code",
   "execution_count": null,
   "metadata": {},
   "outputs": [],
   "source": []
  },
  {
   "cell_type": "code",
   "execution_count": null,
   "metadata": {},
   "outputs": [],
   "source": []
  },
  {
   "cell_type": "code",
   "execution_count": null,
   "metadata": {},
   "outputs": [],
   "source": [
    "traces = traces_raw.copy()\n",
    "\n",
    "# lower outlier detection\n",
    "#points = np.mean(traces, axis=1)\n",
    "points = traces.flatten()\n",
    "\n",
    "# calculate quartile function\n",
    "points.sort()\n",
    "x = np.arange(np.alen(points))/np.alen(points)\n",
    "y = points\n",
    "\n",
    "def differentiate(x, y):\n",
    "    dy = np.zeros(y.shape, np.float)\n",
    "    dy[0:-1] = np.diff(y)/np.diff(x)\n",
    "    dy[-1] = (y[-1] - y[-2])/(x[-1] - x[-2])\n",
    "    return dy\n",
    "\n",
    "grad = differentiate(x, y)\n",
    "mid = int(np.alen(grad)/2)\n",
    "\n",
    "# find maxiumum gradient in first half as cut\n",
    "arg = np.argmax(grad[:mid])+1\n",
    "lower_percentile = x[arg]\n",
    "lower_threshold = y[arg]\n",
    "\n",
    "print('Lower %.1f%% are outliers (F < %d).' % (lower_percentile*100, threshold))\n",
    "\n",
    "arg = np.min((np.argmax(grad[mid:])+mid-1, np.alen(x)-1))\n",
    "upper_percentile = x[arg]\n",
    "upper_threshold = y[arg]\n",
    "\n",
    "print('Upper %.1f%% are outliers (F > %d).' % ((1-upper_percentile)*100, upper_threshold))\n",
    "\n",
    "valid = np.array([True]*traces.shape[0])\n",
    "mean = np.mean(traces, axis=1)\n",
    "valid[mean < lower_threshold] = False\n",
    "valid[np.any(traces > upper_threshold, axis=1)] = False\n",
    "\n",
    "traces = traces[valid]"
   ]
  }
 ],
 "metadata": {
  "kernelspec": {
   "display_name": "Python 3",
   "language": "python",
   "name": "python3"
  },
  "language_info": {
   "codemirror_mode": {
    "name": "ipython",
    "version": 3
   },
   "file_extension": ".py",
   "mimetype": "text/x-python",
   "name": "python",
   "nbconvert_exporter": "python",
   "pygments_lexer": "ipython3",
   "version": "3.6.5"
  }
 },
 "nbformat": 4,
 "nbformat_minor": 2
}
