{
 "cells": [
  {
   "cell_type": "code",
   "execution_count": null,
   "metadata": {},
   "outputs": [],
   "source": [
    "import ants\n",
    "import deepdish as dd\n",
    "from glob import glob\n",
    "from importlib import reload\n",
    "import matplotlib.pyplot as plt\n",
    "import numpy as np\n",
    "\n",
    "from zebrafishframework import io"
   ]
  },
  {
   "cell_type": "code",
   "execution_count": null,
   "metadata": {},
   "outputs": [],
   "source": [
    "folder = '/Users/koesterlab/registered/stimulus/'\n",
    "\n",
    "!ls $folder\n",
    "# 02, 09, 11, 12, 13, 14, 16, 17, 18, 19, 20, 21, 22, 23, 26, 30, 31, 32, 33, 34, 35, 36, 37, 39"
   ]
  },
  {
   "cell_type": "code",
   "execution_count": null,
   "metadata": {},
   "outputs": [],
   "source": [
    "fish = 4\n",
    "base_fn = folder + 'fish%02d_6dpf_amph' % fish\n",
    "aligned10_fn = base_fn + '_aligned_z10.h5'\n",
    "shifts_fn = base_fn + '_shifts.npy'"
   ]
  },
  {
   "cell_type": "code",
   "execution_count": null,
   "metadata": {},
   "outputs": [],
   "source": [
    "shifts = np.load(shifts_fn)\n",
    "time_pre = 150\n",
    "time_post = 300\n",
    "pre = dd.io.load(aligned10_fn, sel=(slice(time_pre, time_pre+1),))[0]\n",
    "post = dd.io.load(aligned10_fn, sel=(slice(time_post, time_post+1),))[0]\n",
    "#aligned10 = dd.io.load(aligned10_fn)\n",
    "\n",
    "#from skimage.io import imsave\n",
    "#imsave(np.array([pre, post]), '/Users/koesterlab/Downloads/%02d_prepost.gif' % fish)"
   ]
  },
  {
   "cell_type": "code",
   "execution_count": null,
   "metadata": {
    "scrolled": false
   },
   "outputs": [],
   "source": [
    "shift_dists = np.sqrt(np.sum(np.square(shifts), axis=2))\n",
    "fig = plt.figure(figsize=(12, 5))\n",
    "ax = fig.add_axes([0.1, 0.1, 0.9, 0.9], yticks=np.arange(21))\n",
    "ax.set_xlabel('Time [frames]')\n",
    "ax.set_ylabel('Plane')\n",
    "img = ax.imshow(shift_dists.swapaxes(0, 1), aspect='auto', vmax=50)\n",
    "cbar = plt.colorbar(img)\n",
    "cbar.set_label('translation distance [pixel]')"
   ]
  },
  {
   "cell_type": "code",
   "execution_count": null,
   "metadata": {},
   "outputs": [],
   "source": [
    "time_pre = 150\n",
    "time_post = 300\n",
    "for aligned10_fn in glob(folder + '/*_aligned_z10.h5'):\n",
    "    pre = dd.io.load(aligned10_fn, sel=(slice(time_pre, time_pre+1),))[0]\n",
    "    post = dd.io.load(aligned10_fn, sel=(slice(time_post, time_post+1),))[0]\n",
    "    img = np.zeros((2,) + pre.shape, pre.dtype)\n",
    "    img[0] = pre\n",
    "    img[1] = post\n",
    "    fn = aligned10_fn.replace('aligned_z10.h5', 'pre_post.nrrd')\n",
    "    io.save(fn, img, spacing=io.SPACING_JAKOB)"
   ]
  },
  {
   "cell_type": "code",
   "execution_count": null,
   "metadata": {},
   "outputs": [],
   "source": [
    "# control\n",
    "ok1 = [19, 22, 23, 32, 39]\n",
    "good1 = [2, 12, 14, 17, 18, 20, 21]\n",
    "\n",
    "# stimulus\n",
    "ok2 = [41, 45, 50, 53]\n",
    "good2 = [4, 49, 51, 52]"
   ]
  },
  {
   "cell_type": "code",
   "execution_count": null,
   "metadata": {},
   "outputs": [],
   "source": [
    "np.sort(ok2 + good2)"
   ]
  }
 ],
 "metadata": {
  "kernelspec": {
   "display_name": "Python 3",
   "language": "python",
   "name": "python3"
  },
  "language_info": {
   "codemirror_mode": {
    "name": "ipython",
    "version": 3
   },
   "file_extension": ".py",
   "mimetype": "text/x-python",
   "name": "python",
   "nbconvert_exporter": "python",
   "pygments_lexer": "ipython3",
   "version": "3.6.5"
  }
 },
 "nbformat": 4,
 "nbformat_minor": 2
}
