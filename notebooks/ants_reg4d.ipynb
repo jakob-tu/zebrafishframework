{
 "cells": [
  {
   "cell_type": "code",
   "execution_count": null,
   "metadata": {},
   "outputs": [],
   "source": [
    "from importlib import reload\n",
    "import ipyparallel\n",
    "import itertools\n",
    "import numpy as np\n",
    "import os\n",
    "from pyprind import prog_percent\n",
    "\n",
    "from zebrafishframework import ants\n",
    "from zebrafishframework import io\n",
    "from zebrafishframework import util"
   ]
  },
  {
   "cell_type": "code",
   "execution_count": null,
   "metadata": {},
   "outputs": [],
   "source": []
  },
  {
   "cell_type": "code",
   "execution_count": null,
   "metadata": {},
   "outputs": [],
   "source": [
    "series_h5 = os.path.abspath('./fish23_6dpf_medium_time.h5')\n",
    "ts_pregap = np.arange(0, 180)\n",
    "ts_postgap = np.arange(200, 1800)\n",
    "\n",
    "# choose representative frames\n",
    "t_repr_pre = 10\n",
    "t_repr_post = 240\n",
    "\n",
    "def mkifnexist(path):\n",
    "    if not os.path.exists(path):\n",
    "        os.mkdir(path)\n",
    "\n",
    "path_processed = os.path.abspath('processed')\n",
    "path_raw_frames = os.path.join(path_processed, 'raw_frames')\n",
    "path_post_aligned_to_pre = os.path.join(path_processed, 'post_aligned_to_pre')\n",
    "path_reg_local = os.path.join(path_processed, 'reg_local')\n",
    "path_reg_post_pre = os.path.join('processed', 'reg_post_pre')\n",
    "\n",
    "mkifnexist(path_raw_frames)\n",
    "mkifnexist(path_processed)\n",
    "mkifnexist(path_reg_local)\n",
    "mkifnexist(path_reg_post_pre)\n",
    "mkifnexist(path_post_aligned_to_pre)\n",
    "\n",
    "fn_repr_pre = os.path.join(path_processed, 'repr_pre.nrrd')\n",
    "fn_repr_post = os.path.join(path_processed, 'repr_post.nrrd')"
   ]
  },
  {
   "cell_type": "code",
   "execution_count": null,
   "metadata": {},
   "outputs": [],
   "source": [
    "# run ./startcluster in virtual environment\n",
    "c = ipyparallel.Client()\n",
    "view = c.load_balanced_view()"
   ]
  },
  {
   "cell_type": "code",
   "execution_count": null,
   "metadata": {},
   "outputs": [],
   "source": [
    "import ipywidgets\n",
    "import time\n",
    "\n",
    "def progress_bar(ar):\n",
    "    w = ipywidgets.IntProgress()\n",
    "    w.max = len(ar.msg_ids)\n",
    "    display(w)\n",
    "    while not ar.ready():\n",
    "        w.value = ar.progress\n",
    "        time.sleep(.1)\n",
    "    w.value = w.max"
   ]
  },
  {
   "cell_type": "code",
   "execution_count": null,
   "metadata": {},
   "outputs": [],
   "source": [
    "io.save(fn_repr_pre, io.get_frame(series_h5, t_repr_pre))\n",
    "io.save(fn_repr_post, io.get_frame(series_h5, t_repr_post))"
   ]
  },
  {
   "cell_type": "code",
   "execution_count": null,
   "metadata": {},
   "outputs": [],
   "source": [
    "ants = reload(ants)"
   ]
  },
  {
   "cell_type": "code",
   "execution_count": null,
   "metadata": {},
   "outputs": [],
   "source": [
    "args = ants.AntsArguments(fn_repr_pre, fn_repr_post, output_folder=path_reg_post_pre)\n",
    "\n",
    "# save some time\n",
    "args.params[2]['convergences'] = '[100x100x0x0x0,1e-7,10]'"
   ]
  },
  {
   "cell_type": "code",
   "execution_count": null,
   "metadata": {},
   "outputs": [],
   "source": [
    "ar = ants.run_antsreg(args)"
   ]
  },
  {
   "cell_type": "code",
   "execution_count": null,
   "metadata": {},
   "outputs": [],
   "source": [
    "transforms = [\n",
    "     os.path.abspath(os.path.join(path_reg_post_pre, 'repr_pre_1Warp.nii.gz')), \n",
    "     os.path.abspath(os.path.join(path_reg_post_pre, 'repr_pre_0GenericAffine.mat'))]\n",
    "consts = (series_h5, path_raw_frames, path_post_aligned_to_pre, fn_repr_pre, transforms)\n",
    "#ts = ts_postgap\n",
    "ts = np.arange(400, 1800)\n",
    "l = list(zip(itertools.repeat(consts), ts))\n",
    "\n",
    "def f(p):\n",
    "    import os\n",
    "    from zebrafishframework import io\n",
    "    from zebrafishframework import ants\n",
    "    \n",
    "    consts, t = p\n",
    "    fn_series, path_raw_frames, path_post_aligned_to_pre, fn_repr_pre, transforms = consts\n",
    "    \n",
    "    frame = io.get_frame(fn_series, t)\n",
    "    fn_frame = os.path.join(path_raw_frames, '%04d.nrrd' % t)\n",
    "    io.save(fn_frame, frame)\n",
    "    \n",
    "    fn_aligned = os.path.join(path_post_aligned_to_pre, '%04d.nrrd' % t)\n",
    "    ants.apply_transform(fn_frame, fn_repr_pre, fn_aligned, transforms)"
   ]
  },
  {
   "cell_type": "code",
   "execution_count": null,
   "metadata": {},
   "outputs": [],
   "source": [
    "for e in prog_percent(l):\n",
    "    f(e)"
   ]
  },
  {
   "cell_type": "code",
   "execution_count": null,
   "metadata": {},
   "outputs": [],
   "source": []
  },
  {
   "cell_type": "code",
   "execution_count": null,
   "metadata": {},
   "outputs": [],
   "source": []
  },
  {
   "cell_type": "code",
   "execution_count": null,
   "metadata": {},
   "outputs": [],
   "source": []
  }
 ],
 "metadata": {
  "kernelspec": {
   "display_name": "Python 3",
   "language": "python",
   "name": "python3"
  },
  "language_info": {
   "codemirror_mode": {
    "name": "ipython",
    "version": 3
   },
   "file_extension": ".py",
   "mimetype": "text/x-python",
   "name": "python",
   "nbconvert_exporter": "python",
   "pygments_lexer": "ipython3",
   "version": "3.6.5"
  }
 },
 "nbformat": 4,
 "nbformat_minor": 2
}
