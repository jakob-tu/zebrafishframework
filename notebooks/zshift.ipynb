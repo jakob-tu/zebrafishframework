{
 "cells": [
  {
   "cell_type": "code",
   "execution_count": null,
   "metadata": {},
   "outputs": [],
   "source": [
    "import ants\n",
    "from ipywidgets import interact\n",
    "import matplotlib.pyplot as plt\n",
    "import numpy as np\n",
    "\n",
    "from zebrafishframework import io\n",
    "from importlib import reload"
   ]
  },
  {
   "cell_type": "code",
   "execution_count": null,
   "metadata": {},
   "outputs": [],
   "source": [
    "io = reload(io)"
   ]
  },
  {
   "cell_type": "code",
   "execution_count": null,
   "metadata": {},
   "outputs": [],
   "source": [
    "LIF_FILE = '/Users/koesterlab/calcium/stimulus/fish46_6dpf_amph.lif'"
   ]
  },
  {
   "cell_type": "code",
   "execution_count": null,
   "metadata": {},
   "outputs": [],
   "source": [
    "ts = [100, 1500]\n",
    "frames = [io.get_frame(LIF_FILE, t) for t in ts]"
   ]
  },
  {
   "cell_type": "code",
   "execution_count": null,
   "metadata": {},
   "outputs": [],
   "source": [
    "@interact\n",
    "def browse(i:(0,20)):\n",
    "    plt.figure(figsize=(12,12))\n",
    "    plt.imshow(frames[0][i])"
   ]
  },
  {
   "cell_type": "code",
   "execution_count": null,
   "metadata": {},
   "outputs": [],
   "source": [
    "@interact\n",
    "def browse(i:(0,20)):\n",
    "    plt.figure(figsize=(12,12))\n",
    "    plt.imshow(frames[1][i])"
   ]
  },
  {
   "cell_type": "code",
   "execution_count": null,
   "metadata": {},
   "outputs": [],
   "source": [
    "ants.registration?"
   ]
  },
  {
   "cell_type": "code",
   "execution_count": null,
   "metadata": {},
   "outputs": [],
   "source": [
    "frames_ants = [ants.from_numpy(f.swapaxes(0, 2)) for f in frames]"
   ]
  },
  {
   "cell_type": "code",
   "execution_count": null,
   "metadata": {},
   "outputs": [],
   "source": [
    "res = ants.registration(frames_ants[0], frames_ants[1],\n",
    "                  type_of_transform='Translation',\n",
    "                  grad_step=.2)"
   ]
  },
  {
   "cell_type": "code",
   "execution_count": null,
   "metadata": {},
   "outputs": [],
   "source": [
    "t = ants.read_transform(res['fwdtransforms'][0])\n",
    "zshift = t.parameters[-1]\n",
    "zshift = int(round(zshift))"
   ]
  },
  {
   "cell_type": "code",
   "execution_count": null,
   "metadata": {},
   "outputs": [],
   "source": [
    "warped = np.zeros_like(frames[0])\n",
    "for z in range(max((0, -zshift)), min((21, -zshift + 21))):\n",
    "    print(z)\n",
    "    mov = ants.from_numpy(frames[1][z + zshift].swapaxes(0, 1))\n",
    "    fix = ants.from_numpy(frames[0][z].swapaxes(0, 1))\n",
    "    res = ants.registration(mov, fix,\n",
    "                     type_of_transform='Affine',\n",
    "                     reg_iterations=[500, 500, 500],\n",
    "                     grad_step=.1,\n",
    "                     verbose=True)\n",
    "    t = ants.read_transform(res['fwdtransforms'][0])\n",
    "    trans = ants.apply_ants_transform_to_image(t, mov, fix)\n",
    "    warped[z] = trans.numpy().swapaxes(0, 1)"
   ]
  },
  {
   "cell_type": "code",
   "execution_count": null,
   "metadata": {},
   "outputs": [],
   "source": [
    "@interact\n",
    "def browse(i:(0,20)):\n",
    "    plt.figure(figsize=(12,12))\n",
    "    plt.imshow(warped[i])"
   ]
  },
  {
   "cell_type": "code",
   "execution_count": null,
   "metadata": {},
   "outputs": [],
   "source": [
    "#io.save('/Users/koesterlab/bla/frame0.nrrd', frames[0], spacing=io.SPACING_JAKOB)\n",
    "#io.save('/Users/koesterlab/bla/frame1.nrrd', frames[1], spacing=io.SPACING_JAKOB)\n",
    "io.save('/Users/koesterlab/bla/frame1_warped2.nrrd', warped, spacing=io.SPACING_JAKOB)"
   ]
  },
  {
   "cell_type": "code",
   "execution_count": null,
   "metadata": {},
   "outputs": [],
   "source": []
  },
  {
   "cell_type": "code",
   "execution_count": null,
   "metadata": {},
   "outputs": [],
   "source": []
  },
  {
   "cell_type": "code",
   "execution_count": null,
   "metadata": {},
   "outputs": [],
   "source": []
  }
 ],
 "metadata": {
  "kernelspec": {
   "display_name": "Python 3",
   "language": "python",
   "name": "python3"
  },
  "language_info": {
   "codemirror_mode": {
    "name": "ipython",
    "version": 3
   },
   "file_extension": ".py",
   "mimetype": "text/x-python",
   "name": "python",
   "nbconvert_exporter": "python",
   "pygments_lexer": "ipython3",
   "version": "3.6.5"
  }
 },
 "nbformat": 4,
 "nbformat_minor": 2
}
