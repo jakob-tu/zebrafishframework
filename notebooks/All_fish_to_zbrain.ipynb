{
 "cells": [
  {
   "cell_type": "code",
   "execution_count": null,
   "metadata": {},
   "outputs": [],
   "source": [
    "import ants\n",
    "from glob import glob\n",
    "from importlib import reload\n",
    "import matplotlib.pyplot as plt\n",
    "import numpy as np\n",
    "import os\n",
    "from pyprind import prog_percent\n",
    "\n",
    "from zebrafishframework import io\n",
    "from zebrafishframework import img\n",
    "from zebrafishframework import regtools\n",
    "from zebrafishframework import rendering\n",
    "from zebrafishframework import segmentation\n",
    "\n",
    "from zebrafishframework.regtools import to_ants, to_numpy\n",
    "\n",
    "img = reload(img)\n",
    "regtools = reload(regtools)\n",
    "rendering = reload(rendering)"
   ]
  },
  {
   "cell_type": "markdown",
   "metadata": {},
   "source": [
    "Load the reference image"
   ]
  },
  {
   "cell_type": "code",
   "execution_count": null,
   "metadata": {},
   "outputs": [],
   "source": [
    "zb_ref_fn = '/Users/koesterlab/Registrations/Elavl3-H2BRFP.tif'\n",
    "zb_ref_ants = ants.image_read(zb_ref_fn)\n",
    "zb_ref_ants.set_spacing(io.SPACING_ZBB)\n",
    "zb_ref_np = to_numpy(zb_ref_ants)"
   ]
  },
  {
   "cell_type": "markdown",
   "metadata": {},
   "source": [
    "Load our stuff: traces, rois and anatomies for both control and stimulus groups"
   ]
  },
  {
   "cell_type": "code",
   "execution_count": null,
   "metadata": {},
   "outputs": [],
   "source": [
    "def find_bases(base_glob):\n",
    "    cut = '_std_dev.h5'\n",
    "    globs = glob(base_glob + cut)\n",
    "    bases = [g[:-len(cut)] for g in globs]\n",
    "    return bases\n",
    "\n",
    "def load_stuff(bases):\n",
    "    all_traces = [np.load(b + '_traces.npy') for b in bases]\n",
    "    all_rois = [np.load(b + '_rois.npy') for b in bases]\n",
    "    all_std_devs = [io.load(b + '_std_dev.h5')[0] for b in bases]\n",
    "    all_masks = [io.load(b + '_mask.h5') \n",
    "                 if os.path.exists(b + '_mask.h5') \n",
    "                 else np.ones(std_dev.shape)\n",
    "                for b, std_dev in zip(bases, all_std_devs)]\n",
    "    \n",
    "    filters = [segmentation.mask_rois(rois, mask) for rois, mask in zip(all_rois, all_masks)]\n",
    "    \n",
    "    # apply masks\n",
    "    all_rois = [rois[filt] for rois, filt in zip(all_rois, filters)]\n",
    "    all_traces = [traces[filt] for traces, filt in zip(all_traces, filters)]\n",
    "    all_std_devs = [std_dev * (mask > 0) for std_dev, mask in zip(all_std_devs, all_masks)]\n",
    "    \n",
    "    # pretransform to zbb (flip and rotate)\n",
    "    all_rois = [img.our_view_to_zbrain_rois(rois, std_dev.shape) for rois, std_dev in zip(all_rois, all_std_devs)]\n",
    "    all_std_devs = [to_ants(img.our_view_to_zbrain_img(std_dev)) for std_dev in all_std_devs]\n",
    "    \n",
    "    for std_dev in all_std_devs:\n",
    "        std_dev.set_spacing(io.SPACING_JAKOB)\n",
    "        \n",
    "    return all_traces, all_rois, all_std_devs"
   ]
  },
  {
   "cell_type": "code",
   "execution_count": null,
   "metadata": {},
   "outputs": [],
   "source": [
    "control_bases = find_bases('/Users/koesterlab/segmented/control/fish*_6dpf_medium')\n",
    "stimulus_bases = find_bases('/Users/koesterlab/segmented/stimulus/fish*_6dpf_amph')\n",
    "\n",
    "control_traces, control_rois, control_std_devs = load_stuff(control_bases)\n",
    "stimulus_traces, stimulus_rois, stimulus_std_devs = load_stuff(stimulus_bases)"
   ]
  },
  {
   "cell_type": "code",
   "execution_count": null,
   "metadata": {},
   "outputs": [],
   "source": [
    "control_bases, stimulus_bases"
   ]
  },
  {
   "cell_type": "markdown",
   "metadata": {},
   "source": [
    "Cut traces to uniform timescale and calculate dFF"
   ]
  },
  {
   "cell_type": "code",
   "execution_count": null,
   "metadata": {},
   "outputs": [],
   "source": [
    "ts = np.arange(1800)\n",
    "control_traces_cut = [traces[:,ts] for traces in control_traces]\n",
    "stimulus_traces_cut = [traces[:,ts] for traces in stimulus_traces]\n",
    "\n",
    "control_dFF = [segmentation.dFF(traces, np.arange(110, 160)) for traces in control_traces_cut]\n",
    "stimulus_dFF = [segmentation.dFF(traces, np.arange(110, 160)) for traces in stimulus_traces_cut]"
   ]
  },
  {
   "cell_type": "markdown",
   "metadata": {},
   "source": [
    "Register our anatomies to the reference and transform the rois accordingly"
   ]
  },
  {
   "cell_type": "code",
   "execution_count": null,
   "metadata": {},
   "outputs": [],
   "source": [
    "control_rois_transformed = [regtools.transform_rois(zb_ref_ants, std_dev, rois) \n",
    "                            for std_dev, rois in zip(control_std_devs, prog_percent(control_rois))]"
   ]
  },
  {
   "cell_type": "code",
   "execution_count": null,
   "metadata": {},
   "outputs": [],
   "source": [
    "stimulus_rois_transformed = [regtools.transform_rois(zb_ref_ants, std_dev, rois) \n",
    "                            for std_dev, rois in zip(stimulus_std_devs, prog_percent(stimulus_rois))]"
   ]
  },
  {
   "cell_type": "markdown",
   "metadata": {},
   "source": [
    "Visualize all rois with collapsed z axis"
   ]
  },
  {
   "cell_type": "code",
   "execution_count": null,
   "metadata": {},
   "outputs": [],
   "source": [
    "zb_ref_avg = np.expand_dims(np.average(zb_ref_np, axis=0), axis=0)\n",
    "\n",
    "rois = np.concatenate(stimulus_rois_transformed, axis=0)\n",
    "roi_map = segmentation.draw_rois(rois, zb_ref_avg, fixed_z=0)\n",
    "\n",
    "plt.figure(figsize=(12, 10))\n",
    "plt.imshow(roi_map[0])"
   ]
  },
  {
   "cell_type": "markdown",
   "metadata": {},
   "source": [
    "Generate pixel maps. They associate pixels in the output frame with ROIs and the fraction with which they contribute to the pixel color."
   ]
  },
  {
   "cell_type": "code",
   "execution_count": null,
   "metadata": {},
   "outputs": [],
   "source": [
    "out_shape = zb_ref_np.shape[1:]"
   ]
  },
  {
   "cell_type": "code",
   "execution_count": null,
   "metadata": {},
   "outputs": [],
   "source": [
    "control_pix_map_raw = rendering.pixel_map(np.concatenate(control_rois_transformed, axis=0)[:, :2], out_shape)\n",
    "\n",
    "# filter out pixels where less than N rois contribute to\n",
    "control_pix_map = rendering.pix_map_filter(control_pix_map_raw, 3)"
   ]
  },
  {
   "cell_type": "code",
   "execution_count": null,
   "metadata": {},
   "outputs": [],
   "source": [
    "stimulus_pix_map_raw = rendering.pixel_map(np.concatenate(stimulus_rois_transformed, axis=0)[:, :2], out_shape)\n",
    "\n",
    "# filter out pixels where less than N rois contribute to\n",
    "stimulus_pix_map = rendering.pix_map_filter(stimulus_pix_map_raw, 3)"
   ]
  },
  {
   "cell_type": "markdown",
   "metadata": {},
   "source": [
    "Render all frames"
   ]
  },
  {
   "cell_type": "code",
   "execution_count": null,
   "metadata": {},
   "outputs": [],
   "source": [
    "rendering = reload(rendering)\n",
    "rendered_frames = rendering.orthogonal_averaged(control_pix_map, np.concatenate(stimulus_dFF), \n",
    "                                               ts, out_shape, fill_value=0)"
   ]
  },
  {
   "cell_type": "markdown",
   "metadata": {},
   "source": [
    "Encode the frames into a video file"
   ]
  },
  {
   "cell_type": "code",
   "execution_count": null,
   "metadata": {},
   "outputs": [],
   "source": [
    "rendering.to_file('/Users/koesterlab/rendered.mp4', rendered_frames, fps=30)"
   ]
  },
  {
   "cell_type": "markdown",
   "metadata": {},
   "source": [
    "Save into h5 file"
   ]
  },
  {
   "cell_type": "code",
   "execution_count": null,
   "metadata": {},
   "outputs": [],
   "source": [
    "io.save('/Users/koesterlab/rendered_control.h5', rendered_frames, io.SPACING_ZBB)"
   ]
  },
  {
   "cell_type": "code",
   "execution_count": null,
   "metadata": {},
   "outputs": [],
   "source": [
    "rendered_frames.shape"
   ]
  },
  {
   "cell_type": "code",
   "execution_count": null,
   "metadata": {},
   "outputs": [],
   "source": []
  }
 ],
 "metadata": {
  "kernelspec": {
   "display_name": "Python 3",
   "language": "python",
   "name": "python3"
  },
  "language_info": {
   "codemirror_mode": {
    "name": "ipython",
    "version": 3
   },
   "file_extension": ".py",
   "mimetype": "text/x-python",
   "name": "python",
   "nbconvert_exporter": "python",
   "pygments_lexer": "ipython3",
   "version": "3.6.5"
  }
 },
 "nbformat": 4,
 "nbformat_minor": 2
}
